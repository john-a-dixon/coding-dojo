{
 "cells": [
  {
   "attachments": {},
   "cell_type": "markdown",
   "metadata": {},
   "source": [
    "# **Pipelines Activity**\n",
    "\n",
    "_John Andrew Dixon_\n",
    "\n",
    "---\n",
    "\n",
    "**Setup**\n"
   ]
  },
  {
   "cell_type": "code",
   "execution_count": 2,
   "metadata": {},
   "outputs": [],
   "source": [
    "# Import necessary modules\n",
    "\n",
    "# For working with the data\n",
    "import pandas as pd\n",
    "\n",
    "# For performing a TTS\n",
    "\n",
    "# For scaling numerical features and encoding nominal features\n",
    "\n",
    "# For creating column selectors and column transformers\n"
   ]
  },
  {
   "cell_type": "code",
   "execution_count": 3,
   "metadata": {},
   "outputs": [
    {
     "name": "stdout",
     "output_type": "stream",
     "text": [
      "<class 'pandas.core.frame.DataFrame'>\n",
      "RangeIndex: 77 entries, 0 to 76\n",
      "Data columns (total 16 columns):\n",
      " #   Column                                           Non-Null Count  Dtype  \n",
      "---  ------                                           --------------  -----  \n",
      " 0   name                                             77 non-null     object \n",
      " 1   Manufacturer                                     77 non-null     object \n",
      " 2   type                                             68 non-null     object \n",
      " 3   calories per serving                             70 non-null     float64\n",
      " 4   grams of protein                                 77 non-null     int64  \n",
      " 5   grams of fat                                     69 non-null     float64\n",
      " 6   milligrams of sodium                             76 non-null     float64\n",
      " 7   grams of dietary fiber                           77 non-null     float64\n",
      " 8   grams of complex carbohydrates                   77 non-null     float64\n",
      " 9   grams of sugars                                  68 non-null     float64\n",
      " 10  milligrams of potassium                          77 non-null     int64  \n",
      " 11  vitamins and minerals (% of FDA recommendation)  76 non-null     float64\n",
      " 12  Display shelf                                    77 non-null     int64  \n",
      " 13  Weight in ounces per one serving                 77 non-null     float64\n",
      " 14  Number of cups in one serving                    77 non-null     float64\n",
      " 15  Rating of cereal                                 77 non-null     float64\n",
      "dtypes: float64(10), int64(3), object(3)\n",
      "memory usage: 9.8+ KB\n"
     ]
    }
   ],
   "source": [
    "# Remote URL that has the data\n",
    "url = \"https://docs.google.com/spreadsheets/d/e/2PACX-1vSdnb9XcAnl91bdZYxoJQgIapMW6SLkfr3DYGwnpBOIw-rkw-5j_3b0JLx01282OBAKVUCUJnq8OAUR/pub?output=xlsx\"\n",
    "\n",
    "# Read in the data and verify\n",
    "df = pd.read_excel(url)\n",
    "df.info()"
   ]
  },
  {
   "attachments": {},
   "cell_type": "markdown",
   "metadata": {},
   "source": [
    "---\n",
    "\n",
    "## **Tasks**\n",
    "\n",
    "> **Question**: _How well can the calories be predicted based on the Manufacturer, cereal type, grams of fat, grams of sugars, and weight in ounces per one serving of the cereal?_\n",
    "\n",
    "### **Define features (X) and target (y).**\n",
    "- X should only include the Manufacturer, cereal type, grams of fat, grams of sugars, and weight in ounces columns.\n",
    "- y should be calories per serving"
   ]
  },
  {
   "cell_type": "code",
   "execution_count": 4,
   "metadata": {},
   "outputs": [
    {
     "data": {
      "text/html": [
       "<div>\n",
       "<style scoped>\n",
       "    .dataframe tbody tr th:only-of-type {\n",
       "        vertical-align: middle;\n",
       "    }\n",
       "\n",
       "    .dataframe tbody tr th {\n",
       "        vertical-align: top;\n",
       "    }\n",
       "\n",
       "    .dataframe thead th {\n",
       "        text-align: right;\n",
       "    }\n",
       "</style>\n",
       "<table border=\"1\" class=\"dataframe\">\n",
       "  <thead>\n",
       "    <tr style=\"text-align: right;\">\n",
       "      <th></th>\n",
       "      <th>Manufacturer</th>\n",
       "      <th>type</th>\n",
       "      <th>grams of fat</th>\n",
       "      <th>grams of sugars</th>\n",
       "      <th>Weight in ounces per one serving</th>\n",
       "    </tr>\n",
       "  </thead>\n",
       "  <tbody>\n",
       "    <tr>\n",
       "      <th>0</th>\n",
       "      <td>General Mills</td>\n",
       "      <td>Cold</td>\n",
       "      <td>2.0</td>\n",
       "      <td>10.0</td>\n",
       "      <td>1.00</td>\n",
       "    </tr>\n",
       "    <tr>\n",
       "      <th>1</th>\n",
       "      <td>General Mills</td>\n",
       "      <td>Cold</td>\n",
       "      <td>2.0</td>\n",
       "      <td>NaN</td>\n",
       "      <td>1.33</td>\n",
       "    </tr>\n",
       "    <tr>\n",
       "      <th>2</th>\n",
       "      <td>General Mills</td>\n",
       "      <td>Cold</td>\n",
       "      <td>2.0</td>\n",
       "      <td>1.0</td>\n",
       "      <td>1.00</td>\n",
       "    </tr>\n",
       "    <tr>\n",
       "      <th>3</th>\n",
       "      <td>General Mills</td>\n",
       "      <td>Cold</td>\n",
       "      <td>3.0</td>\n",
       "      <td>9.0</td>\n",
       "      <td>1.00</td>\n",
       "    </tr>\n",
       "    <tr>\n",
       "      <th>4</th>\n",
       "      <td>General Mills</td>\n",
       "      <td>Cold</td>\n",
       "      <td>2.0</td>\n",
       "      <td>7.0</td>\n",
       "      <td>1.00</td>\n",
       "    </tr>\n",
       "    <tr>\n",
       "      <th>...</th>\n",
       "      <td>...</td>\n",
       "      <td>...</td>\n",
       "      <td>...</td>\n",
       "      <td>...</td>\n",
       "      <td>...</td>\n",
       "    </tr>\n",
       "    <tr>\n",
       "      <th>72</th>\n",
       "      <td>Ralston Purina</td>\n",
       "      <td>Cold</td>\n",
       "      <td>NaN</td>\n",
       "      <td>2.0</td>\n",
       "      <td>1.00</td>\n",
       "    </tr>\n",
       "    <tr>\n",
       "      <th>73</th>\n",
       "      <td>Ralston Purina</td>\n",
       "      <td>Cold</td>\n",
       "      <td>1.0</td>\n",
       "      <td>3.0</td>\n",
       "      <td>1.00</td>\n",
       "    </tr>\n",
       "    <tr>\n",
       "      <th>74</th>\n",
       "      <td>American Home Food Products</td>\n",
       "      <td>Hot</td>\n",
       "      <td>1.0</td>\n",
       "      <td>NaN</td>\n",
       "      <td>1.00</td>\n",
       "    </tr>\n",
       "    <tr>\n",
       "      <th>75</th>\n",
       "      <td>Nabisco</td>\n",
       "      <td>Hot</td>\n",
       "      <td>0.0</td>\n",
       "      <td>0.0</td>\n",
       "      <td>1.00</td>\n",
       "    </tr>\n",
       "    <tr>\n",
       "      <th>76</th>\n",
       "      <td>Quaker Oats</td>\n",
       "      <td>Hot</td>\n",
       "      <td>2.0</td>\n",
       "      <td>-1.0</td>\n",
       "      <td>1.00</td>\n",
       "    </tr>\n",
       "  </tbody>\n",
       "</table>\n",
       "<p>77 rows × 5 columns</p>\n",
       "</div>"
      ],
      "text/plain": [
       "                   Manufacturer  type  grams of fat  grams of sugars  \\\n",
       "0                 General Mills  Cold           2.0             10.0   \n",
       "1                 General Mills  Cold           2.0              NaN   \n",
       "2                 General Mills  Cold           2.0              1.0   \n",
       "3                 General Mills  Cold           3.0              9.0   \n",
       "4                 General Mills  Cold           2.0              7.0   \n",
       "..                          ...   ...           ...              ...   \n",
       "72               Ralston Purina  Cold           NaN              2.0   \n",
       "73               Ralston Purina  Cold           1.0              3.0   \n",
       "74  American Home Food Products   Hot           1.0              NaN   \n",
       "75                      Nabisco   Hot           0.0              0.0   \n",
       "76                  Quaker Oats   Hot           2.0             -1.0   \n",
       "\n",
       "    Weight in ounces per one serving  \n",
       "0                               1.00  \n",
       "1                               1.33  \n",
       "2                               1.00  \n",
       "3                               1.00  \n",
       "4                               1.00  \n",
       "..                               ...  \n",
       "72                              1.00  \n",
       "73                              1.00  \n",
       "74                              1.00  \n",
       "75                              1.00  \n",
       "76                              1.00  \n",
       "\n",
       "[77 rows x 5 columns]"
      ]
     },
     "execution_count": 4,
     "metadata": {},
     "output_type": "execute_result"
    }
   ],
   "source": [
    "# Create the feature matrix (X)\n",
    "columns = [\"Manufacturer\", \"type\", \"grams of fat\", \"grams of sugars\", \"Weight in ounces per one serving\"]\n",
    "X = df.loc[:, columns]\n",
    "X"
   ]
  },
  {
   "cell_type": "code",
   "execution_count": 5,
   "metadata": {},
   "outputs": [
    {
     "data": {
      "text/plain": [
       "0     110.0\n",
       "1     130.0\n",
       "2       NaN\n",
       "3     120.0\n",
       "4     110.0\n",
       "      ...  \n",
       "72    110.0\n",
       "73    100.0\n",
       "74    100.0\n",
       "75    100.0\n",
       "76    100.0\n",
       "Name: calories per serving, Length: 77, dtype: float64"
      ]
     },
     "execution_count": 5,
     "metadata": {},
     "output_type": "execute_result"
    }
   ],
   "source": [
    "# Create the target vector (y)\n",
    "y = df[\"calories per serving\"]\n",
    "y"
   ]
  },
  {
   "attachments": {},
   "cell_type": "markdown",
   "metadata": {},
   "source": [
    "### **Identify each feature as numerical, ordinal, or nominal.**\n",
    "**Numerical**: `grams of fat`, `grams of sugars`, `Weight in ounces per one serving`\n",
    "\n",
    "**Ordinal**: `None`\n",
    "\n",
    "**Nominal**: `Manufacturer`, `type`"
   ]
  },
  {
   "attachments": {},
   "cell_type": "markdown",
   "metadata": {},
   "source": [
    "### **Train test split the data to prepare for machine learning.**"
   ]
  },
  {
   "cell_type": "code",
   "execution_count": null,
   "metadata": {},
   "outputs": [],
   "source": []
  },
  {
   "cell_type": "markdown",
   "metadata": {},
   "source": [
    "### **Use pipelines and column transformers to complete the following tasks:**\n",
    "- Impute any missing values. Use the ‘mean’ strategy for numeric columns and the ‘most_frequent’ strategy for categorical columns.\n",
    "- One-hot encode the nominal features.\n",
    "    - Be sure to include the arguments: sparse=False AND handle_unknown='ignore' when creating your OneHotEncoder.\n",
    "- Scale the numeric columns."
   ]
  },
  {
   "attachments": {},
   "cell_type": "markdown",
   "metadata": {},
   "source": [
    "### **All preprocessing steps should be contained within a single preprocessing object.**\n",
    "- Include the arguments: remainder='drop' OR remainder='passthrough' when creating your ColumnTransformer"
   ]
  },
  {
   "attachments": {},
   "cell_type": "markdown",
   "metadata": {},
   "source": [
    "### **Use your preprocessing object to transform your data appropriately, avoiding data leakage, to make it ready for modeling. Show the resulting NumPy array output.**\n",
    "- The .fit() and .transform() methods should ONLY be used with the resulting preprocessing object, NOT with any individual transformer."
   ]
  }
 ],
 "metadata": {
  "kernelspec": {
   "display_name": "Python 3",
   "language": "python",
   "name": "python3"
  },
  "language_info": {
   "codemirror_mode": {
    "name": "ipython",
    "version": 3
   },
   "file_extension": ".py",
   "mimetype": "text/x-python",
   "name": "python",
   "nbconvert_exporter": "python",
   "pygments_lexer": "ipython3",
   "version": "3.10.10"
  },
  "orig_nbformat": 4,
  "vscode": {
   "interpreter": {
    "hash": "7e9e5ad401de39515058f8e476101bf27db3c0dd433738962d4efa9a7611ac1c"
   }
  }
 },
 "nbformat": 4,
 "nbformat_minor": 2
}
