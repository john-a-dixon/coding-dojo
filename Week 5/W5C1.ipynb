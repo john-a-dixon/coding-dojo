{
 "cells": [
  {
   "attachments": {},
   "cell_type": "markdown",
   "metadata": {},
   "source": [
    "# **Abalone Preprocessing Exercise**\n",
    "\n",
    "_John Andrew Dixon_\n",
    "\n",
    "---\n",
    "\n",
    "**Setup**"
   ]
  },
  {
   "cell_type": "code",
   "execution_count": 1,
   "metadata": {},
   "outputs": [],
   "source": [
    "# Import necessary modules\n",
    "\n",
    "# For working with the data\n",
    "import pandas as pd\n",
    "\n",
    "# For performing a TTS\n",
    "from sklearn.model_selection import train_test_split\n",
    "\n",
    "# For scaling numerical features and encoding nominal features\n",
    "from sklearn.preprocessing import StandardScaler, OneHotEncoder\n",
    "\n",
    "# For creating column selectors and column transformers\n",
    "from sklearn.compose import make_column_selector, make_column_transformer"
   ]
  },
  {
   "cell_type": "code",
   "execution_count": 2,
   "metadata": {},
   "outputs": [
    {
     "name": "stdout",
     "output_type": "stream",
     "text": [
      "<class 'pandas.core.frame.DataFrame'>\n",
      "RangeIndex: 4177 entries, 0 to 4176\n",
      "Data columns (total 9 columns):\n",
      " #   Column          Non-Null Count  Dtype  \n",
      "---  ------          --------------  -----  \n",
      " 0   sex             4177 non-null   object \n",
      " 1   length          4177 non-null   float64\n",
      " 2   diameter        4177 non-null   float64\n",
      " 3   height          4177 non-null   float64\n",
      " 4   whole_weight    4177 non-null   float64\n",
      " 5   shucked_weight  4177 non-null   float64\n",
      " 6   viscera_weight  4177 non-null   float64\n",
      " 7   shell_weight    4177 non-null   float64\n",
      " 8   rings           4177 non-null   int64  \n",
      "dtypes: float64(7), int64(1), object(1)\n",
      "memory usage: 293.8+ KB\n"
     ]
    }
   ],
   "source": [
    "# Load the data into a DataFrame and verify\n",
    "url = \"https://docs.google.com/spreadsheets/d/1jfU2oFSfhX1ywUbqETExDJuztO95r3h6pbWAm7xpwNY/gviz/tq?tqx=out:csv&sheet=users\"\n",
    "df= pd.read_csv(url)\n",
    "df.info()"
   ]
  },
  {
   "attachments": {},
   "cell_type": "markdown",
   "metadata": {},
   "source": [
    "---\n",
    "\n",
    "## **Tasks**\n",
    "\n",
    "### **Separate your data into the feature matrix (X) and the target vector (y)**\n",
    "- Rings will be your y\n",
    "- The rest of the features will be your X"
   ]
  },
  {
   "attachments": {},
   "cell_type": "markdown",
   "metadata": {},
   "source": [
    "### **Train/test split the data. Please use the random number 42 for consistency.**"
   ]
  },
  {
   "attachments": {},
   "cell_type": "markdown",
   "metadata": {},
   "source": [
    "### **Create a ColumnTransformer to preprocess the data.** \n",
    "Remember to:\n",
    "1. Create column selectors for the numeric and categorical columns.\n",
    "2. Create a StandardScaler for scaling numeric columns.\n",
    "3. Create a OneHotEncoder for one-hot encoding the categorical columns.\n",
    "4. Match each transformer with the appropriate selector in a tuple.\n",
    "5. Use the tuples to create a ColumnTransformer to preprocess the data."
   ]
  },
  {
   "attachments": {},
   "cell_type": "markdown",
   "metadata": {},
   "source": [
    "### **Transform your data and display the result.**\n",
    "- Individual transformers do NOT need to be fit separately.  Just fit the resulting preprocessing object once on the training data, and use it to transform both the training and testing data."
   ]
  }
 ],
 "metadata": {
  "kernelspec": {
   "display_name": "Python 3",
   "language": "python",
   "name": "python3"
  },
  "language_info": {
   "codemirror_mode": {
    "name": "ipython",
    "version": 3
   },
   "file_extension": ".py",
   "mimetype": "text/x-python",
   "name": "python",
   "nbconvert_exporter": "python",
   "pygments_lexer": "ipython3",
   "version": "3.10.10"
  },
  "orig_nbformat": 4,
  "vscode": {
   "interpreter": {
    "hash": "7e9e5ad401de39515058f8e476101bf27db3c0dd433738962d4efa9a7611ac1c"
   }
  }
 },
 "nbformat": 4,
 "nbformat_minor": 2
}
