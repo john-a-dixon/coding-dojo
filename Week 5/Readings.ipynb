{
 "cells": [
  {
   "attachments": {},
   "cell_type": "markdown",
   "metadata": {},
   "source": [
    "# **Week 5 Readings**\n",
    "\n",
    "_John Andrew Dixon_\n",
    "\n",
    "---\n",
    "\n",
    "**Setup**"
   ]
  },
  {
   "cell_type": "code",
   "execution_count": 19,
   "metadata": {},
   "outputs": [],
   "source": [
    "# Import necessary Python modules\n",
    "import pandas as pd"
   ]
  },
  {
   "cell_type": "code",
   "execution_count": 20,
   "metadata": {},
   "outputs": [
    {
     "name": "stdout",
     "output_type": "stream",
     "text": [
      "<class 'pandas.core.frame.DataFrame'>\n",
      "RangeIndex: 8523 entries, 0 to 8522\n",
      "Data columns (total 12 columns):\n",
      " #   Column                     Non-Null Count  Dtype  \n",
      "---  ------                     --------------  -----  \n",
      " 0   Item_Identifier            8523 non-null   object \n",
      " 1   Item_Weight                7060 non-null   float64\n",
      " 2   Item_Fat_Content           8523 non-null   object \n",
      " 3   Item_Visibility            8523 non-null   float64\n",
      " 4   Item_Type                  8523 non-null   object \n",
      " 5   Item_MRP                   8523 non-null   float64\n",
      " 6   Outlet_Identifier          8523 non-null   object \n",
      " 7   Outlet_Establishment_Year  8523 non-null   int64  \n",
      " 8   Outlet_Size                8523 non-null   object \n",
      " 9   Outlet_Location_Type       8523 non-null   object \n",
      " 10  Outlet_Type                8523 non-null   object \n",
      " 11  Item_Outlet_Sales          8523 non-null   float64\n",
      "dtypes: float64(4), int64(1), object(7)\n",
      "memory usage: 799.2+ KB\n"
     ]
    }
   ],
   "source": [
    "# Load data and verify\n",
    "url = \"https://docs.google.com/spreadsheets/d/e/2PACX-1vSdSJuFHcoz8G3NZPlYpavtY8IjFJDczqqEukadW_rEfumnbd5kpF9H0e9vS9kxrnglCYiwLJy4_PXK/pub?output=csv\"\n",
    "df = pd.read_csv(url)\n",
    "df['Outlet_Size'].fillna('Small', inplace=True)\n",
    "df.info()"
   ]
  },
  {
   "attachments": {},
   "cell_type": "markdown",
   "metadata": {},
   "source": [
    "---\n",
    "\n",
    "## **Stating the Supervised Machine Learning Problem**"
   ]
  },
  {
   "cell_type": "code",
   "execution_count": 21,
   "metadata": {},
   "outputs": [
    {
     "data": {
      "text/html": [
       "<div>\n",
       "<style scoped>\n",
       "    .dataframe tbody tr th:only-of-type {\n",
       "        vertical-align: middle;\n",
       "    }\n",
       "\n",
       "    .dataframe tbody tr th {\n",
       "        vertical-align: top;\n",
       "    }\n",
       "\n",
       "    .dataframe thead th {\n",
       "        text-align: right;\n",
       "    }\n",
       "</style>\n",
       "<table border=\"1\" class=\"dataframe\">\n",
       "  <thead>\n",
       "    <tr style=\"text-align: right;\">\n",
       "      <th></th>\n",
       "      <th>Outlet_Size</th>\n",
       "      <th>Outlet_Location_Type</th>\n",
       "      <th>Outlet_Type</th>\n",
       "    </tr>\n",
       "  </thead>\n",
       "  <tbody>\n",
       "    <tr>\n",
       "      <th>0</th>\n",
       "      <td>Medium</td>\n",
       "      <td>Tier 1</td>\n",
       "      <td>Supermarket Type1</td>\n",
       "    </tr>\n",
       "    <tr>\n",
       "      <th>1</th>\n",
       "      <td>Medium</td>\n",
       "      <td>Tier 3</td>\n",
       "      <td>Supermarket Type2</td>\n",
       "    </tr>\n",
       "    <tr>\n",
       "      <th>2</th>\n",
       "      <td>Medium</td>\n",
       "      <td>Tier 1</td>\n",
       "      <td>Supermarket Type1</td>\n",
       "    </tr>\n",
       "    <tr>\n",
       "      <th>3</th>\n",
       "      <td>Small</td>\n",
       "      <td>Tier 3</td>\n",
       "      <td>Grocery Store</td>\n",
       "    </tr>\n",
       "    <tr>\n",
       "      <th>4</th>\n",
       "      <td>High</td>\n",
       "      <td>Tier 3</td>\n",
       "      <td>Supermarket Type1</td>\n",
       "    </tr>\n",
       "    <tr>\n",
       "      <th>...</th>\n",
       "      <td>...</td>\n",
       "      <td>...</td>\n",
       "      <td>...</td>\n",
       "    </tr>\n",
       "    <tr>\n",
       "      <th>8518</th>\n",
       "      <td>High</td>\n",
       "      <td>Tier 3</td>\n",
       "      <td>Supermarket Type1</td>\n",
       "    </tr>\n",
       "    <tr>\n",
       "      <th>8519</th>\n",
       "      <td>Small</td>\n",
       "      <td>Tier 2</td>\n",
       "      <td>Supermarket Type1</td>\n",
       "    </tr>\n",
       "    <tr>\n",
       "      <th>8520</th>\n",
       "      <td>Small</td>\n",
       "      <td>Tier 2</td>\n",
       "      <td>Supermarket Type1</td>\n",
       "    </tr>\n",
       "    <tr>\n",
       "      <th>8521</th>\n",
       "      <td>Medium</td>\n",
       "      <td>Tier 3</td>\n",
       "      <td>Supermarket Type2</td>\n",
       "    </tr>\n",
       "    <tr>\n",
       "      <th>8522</th>\n",
       "      <td>Small</td>\n",
       "      <td>Tier 1</td>\n",
       "      <td>Supermarket Type1</td>\n",
       "    </tr>\n",
       "  </tbody>\n",
       "</table>\n",
       "<p>8523 rows × 3 columns</p>\n",
       "</div>"
      ],
      "text/plain": [
       "     Outlet_Size Outlet_Location_Type        Outlet_Type\n",
       "0         Medium               Tier 1  Supermarket Type1\n",
       "1         Medium               Tier 3  Supermarket Type2\n",
       "2         Medium               Tier 1  Supermarket Type1\n",
       "3          Small               Tier 3      Grocery Store\n",
       "4           High               Tier 3  Supermarket Type1\n",
       "...          ...                  ...                ...\n",
       "8518        High               Tier 3  Supermarket Type1\n",
       "8519       Small               Tier 2  Supermarket Type1\n",
       "8520       Small               Tier 2  Supermarket Type1\n",
       "8521      Medium               Tier 3  Supermarket Type2\n",
       "8522       Small               Tier 1  Supermarket Type1\n",
       "\n",
       "[8523 rows x 3 columns]"
      ]
     },
     "execution_count": 21,
     "metadata": {},
     "output_type": "execute_result"
    }
   ],
   "source": [
    "# Creates the Features Matrix AKA 2D grid where rows are samples \n",
    "# and columns are features. This makes chooses the columns \n",
    "# `Outlet_Size`, `Outlet_Location_Type`, and `Outlet_Type` as the\n",
    "# features of the Features Matrix. All rows are chosen as the \n",
    "# samples.\n",
    "features = list(df.columns)[8:-1]\n",
    "X = df.loc[:, features]\n",
    "X"
   ]
  },
  {
   "cell_type": "code",
   "execution_count": 22,
   "metadata": {},
   "outputs": [
    {
     "data": {
      "text/plain": [
       "0       3735.1380\n",
       "1        443.4228\n",
       "2       2097.2700\n",
       "3        732.3800\n",
       "4        994.7052\n",
       "          ...    \n",
       "8518    2778.3834\n",
       "8519     549.2850\n",
       "8520    1193.1136\n",
       "8521    1845.5976\n",
       "8522     765.6700\n",
       "Name: Item_Outlet_Sales, Length: 8523, dtype: float64"
      ]
     },
     "execution_count": 22,
     "metadata": {},
     "output_type": "execute_result"
    }
   ],
   "source": [
    "# Creates the Target Vector AKA a 1D column where rows are samples \n",
    "# and the column is what you wish to predict. Below makes the \n",
    "# `Item_Outlet_Sales` as the the columns to predict. \n",
    "# All rows are chosen as the samples.\n",
    "y = df[\"Item_Outlet_Sales\"]\n",
    "y"
   ]
  },
  {
   "attachments": {},
   "cell_type": "markdown",
   "metadata": {},
   "source": [
    "## **Train Test Split (Model Validation)**\n",
    "\n",
    "Brief explanation:\n",
    "1. Split a dataset into two sets: training set (default 75%), testing set (default 25%).\n",
    "2. Train with the training set only.\n",
    "3. Test with the testing set only. This is to simulate how well it'll do with new data.\n",
    "\n",
    "A note on Data Leakage:\n",
    "- It happens when any data from the testing set is used to train the model.\n",
    "- DO NOT ALLOW THIS TO HAPPEN! Training _**only**_ with data from the training set.\n",
    "\n",
    "Here's how to implement it:"
   ]
  },
  {
   "cell_type": "code",
   "execution_count": 23,
   "metadata": {},
   "outputs": [
    {
     "name": "stdout",
     "output_type": "stream",
     "text": [
      "6392 6392 2131 2131\n"
     ]
    }
   ],
   "source": [
    "# Import the TTS from sklearn\n",
    "from sklearn.model_selection import train_test_split\n",
    "\n",
    "# Perform the TTS\n",
    "X_train, X_test, y_train, y_test = train_test_split(X, y, random_state=42)\n",
    "\n",
    "# Output the lengths to see if they tach\n",
    "print(len(X_train), len(y_train), len(X_test), len(y_test))"
   ]
  },
  {
   "attachments": {},
   "cell_type": "markdown",
   "metadata": {},
   "source": [
    "## **Types of Features**\n",
    "\n",
    "There are three types of features:\n",
    "1. Numeric Features\n",
    "    - Int or Float\n",
    "    - Ex: Price, mpg, IQ\n",
    "2. Ordinal Features\n",
    "    - Int or Strings\n",
    "    - Ex: Star ratings, Grades\n",
    "3. Categorical (Nominal) Features\n",
    "    - Int or Strings\n",
    "    - Ex: Color, Car model\n",
    "\n",
    "All must be transformed into a number to be used in Machine Learning.\n",
    "\n",
    "### **Transforming Numeric Features**\n",
    "\n",
    "These are already numeric but they may need to be scaled in someway.\n",
    "\n",
    "### **Transforming Ordinal Features**\n",
    "\n",
    "These type of features would need to be mapped to a numerical value."
   ]
  },
  {
   "cell_type": "code",
   "execution_count": 27,
   "metadata": {},
   "outputs": [],
   "source": [
    "# Replacement dictionary to transform ordinal to numerical\n",
    "sizes = {\n",
    "    'Small': 0,\n",
    "    'Medium': 1,\n",
    "    'High': 2\n",
    "}\n",
    "\n",
    "# Replace the ordinal features with numerical values\n",
    "X_train['Outlet_Size'] = X_train['Outlet_Size'].replace(sizes)\n",
    "X_test['Outlet_Size'] = X_test['Outlet_Size'].replace(sizes)"
   ]
  },
  {
   "attachments": {
    "image.png": {
     "image/png": "[encoded data removed]"
    }
   },
   "cell_type": "markdown",
   "metadata": {},
   "source": [
    "### **Transforming Categorical (Nominal) Features**\n",
    "\n",
    "Transforming a Categorical feature into a numerical value cannot be done in the same way as an Ordinal feature. This is because machine learning algorithms will interpret higher numbers as greater which should not be done with categorical values. To handle this, categorical features can be transformed through one-hot encoding, as shown below.\n",
    "\n",
    "![image.png](attachment:image.png)\n",
    "\n",
    "This doesn't need to be done manually. A future lesson will teach an easier way of doing this.\n",
    "\n",
    "## **Standardization and Scaling Data**\n",
    "\n",
    "### **Scale**\n",
    "Means to change the range of values. This does not change the distribution.\n",
    "\n",
    "### **Standardize**\n",
    "This is a kind scaling. It means to scale the values so the distribution has a standard deviation of one and a mean of 0. This closely resembles a normal distribution. Units are lost here."
   ]
  }
 ],
 "metadata": {
  "kernelspec": {
   "display_name": "Python 3",
   "language": "python",
   "name": "python3"
  },
  "language_info": {
   "codemirror_mode": {
    "name": "ipython",
    "version": 3
   },
   "file_extension": ".py",
   "mimetype": "text/x-python",
   "name": "python",
   "nbconvert_exporter": "python",
   "pygments_lexer": "ipython3",
   "version": "3.10.10"
  },
  "orig_nbformat": 4,
  "vscode": {
   "interpreter": {
    "hash": "7e9e5ad401de39515058f8e476101bf27db3c0dd433738962d4efa9a7611ac1c"
   }
  }
 },
 "nbformat": 4,
 "nbformat_minor": 2
}
