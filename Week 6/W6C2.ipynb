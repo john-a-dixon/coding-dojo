{
 "cells": [
  {
   "attachments": {},
   "cell_type": "markdown",
   "metadata": {},
   "source": [
    "# **Ensemble Trees Exercise**\n",
    "\n",
    "_John Andrew Dixon_\n",
    "\n",
    "---\n",
    "\n",
    "**Setup**"
   ]
  },
  {
   "cell_type": "code",
   "execution_count": 372,
   "metadata": {},
   "outputs": [],
   "source": [
    "import pandas as pd\n",
    "from sklearn.model_selection import train_test_split\n",
    "from sklearn.tree import DecisionTreeRegressor\n",
    "from sklearn.ensemble import BaggingRegressor, RandomForestRegressor"
   ]
  },
  {
   "cell_type": "code",
   "execution_count": 373,
   "metadata": {},
   "outputs": [
    {
     "name": "stdout",
     "output_type": "stream",
     "text": [
      "<class 'pandas.core.frame.DataFrame'>\n",
      "RangeIndex: 506 entries, 0 to 505\n",
      "Data columns (total 7 columns):\n",
      " #   Column   Non-Null Count  Dtype  \n",
      "---  ------   --------------  -----  \n",
      " 0   CRIM     506 non-null    float64\n",
      " 1   NOX      506 non-null    float64\n",
      " 2   RM       506 non-null    float64\n",
      " 3   AGE      506 non-null    float64\n",
      " 4   PTRATIO  506 non-null    float64\n",
      " 5   LSTAT    506 non-null    float64\n",
      " 6   PRICE    506 non-null    float64\n",
      "dtypes: float64(7)\n",
      "memory usage: 27.8 KB\n"
     ]
    }
   ],
   "source": [
    "# Remote URL to the data\n",
    "url =\"https://docs.google.com/spreadsheets/d/e/2PACX-1vSQc1CsJ25nPMJcuJD04csFCysrzuInd_IQ_drLza49m_3R4MllPcuhduu4GozMJun3MgUJkGl0cw-d/pub?output=csv\"\n",
    "# Load and verify data\n",
    "df = pd.read_csv(url)\n",
    "df.info()"
   ]
  },
  {
   "cell_type": "code",
   "execution_count": 374,
   "metadata": {},
   "outputs": [],
   "source": [
    "# Function for evaluating regression R^2 scores\n",
    "def regressor_eval(regressor, tts_tuple, verbose=False):\n",
    "    \"\"\"Function for evaluating a model's R^2 scores\"\"\"\n",
    "    training_r2 = regressor.score(tts_tuple[0], tts_tuple[2])\n",
    "    testing_r2 = regressor.score(tts_tuple[1], tts_tuple[3])\n",
    "    if verbose:\n",
    "        print(type(regressor))\n",
    "        print(\"Training R-squared:\", training_r2)\n",
    "        print(\"Testing R-squared:\", testing_r2)\n",
    "        print()\n",
    "\n",
    "    return training_r2, testing_r2"
   ]
  },
  {
   "attachments": {},
   "cell_type": "markdown",
   "metadata": {},
   "source": [
    "---\n",
    "\n",
    "## **Tasks**\n",
    "\n",
    "### **Try a Decision Tree, Bagged Tree, and Random Forest.**"
   ]
  },
  {
   "cell_type": "code",
   "execution_count": 375,
   "metadata": {},
   "outputs": [],
   "source": [
    "# Create feature matrix and target vector\n",
    "X = df.drop(columns=\"PRICE\")\n",
    "y = df[\"PRICE\"]"
   ]
  },
  {
   "cell_type": "code",
   "execution_count": 376,
   "metadata": {},
   "outputs": [],
   "source": [
    "# Train test split\n",
    "X_train, X_test, y_train, y_test = train_test_split(X, y, random_state=42)\n",
    "train_test_split_tuple = (X_train, X_test, y_train, y_test)"
   ]
  },
  {
   "cell_type": "code",
   "execution_count": 377,
   "metadata": {},
   "outputs": [],
   "source": [
    "# Bring default trees and forest regressors into the mix\n",
    "dt_default = DecisionTreeRegressor(random_state=42)\n",
    "bt_default = BaggingRegressor(random_state=42)\n",
    "rf_default = RandomForestRegressor(random_state=42)"
   ]
  },
  {
   "cell_type": "code",
   "execution_count": 378,
   "metadata": {},
   "outputs": [],
   "source": [
    "# Fit all of them to the training data\n",
    "dt_default.fit(X_train, y_train)\n",
    "bt_default.fit(X_train, y_train)\n",
    "rf_default.fit(X_train, y_train)\n",
    "print(end='')"
   ]
  },
  {
   "cell_type": "code",
   "execution_count": 379,
   "metadata": {},
   "outputs": [
    {
     "name": "stdout",
     "output_type": "stream",
     "text": [
      "<class 'sklearn.tree._classes.DecisionTreeRegressor'>\n",
      "Training R-squared: 1.0\n",
      "Testing R-squared: 0.6193230918136841\n",
      "\n",
      "<class 'sklearn.ensemble._bagging.BaggingRegressor'>\n",
      "Training R-squared: 0.9606756023782893\n",
      "Testing R-squared: 0.8204208271364619\n",
      "\n",
      "<class 'sklearn.ensemble._forest.RandomForestRegressor'>\n",
      "Training R-squared: 0.9771342521069045\n",
      "Testing R-squared: 0.8338530730048258\n",
      "\n"
     ]
    }
   ],
   "source": [
    "regressor_eval(dt_default, train_test_split_tuple, True)\n",
    "regressor_eval(bt_default, train_test_split_tuple, True)\n",
    "regressor_eval(rf_default, train_test_split_tuple, True)\n",
    "print(end='')"
   ]
  },
  {
   "attachments": {},
   "cell_type": "markdown",
   "metadata": {},
   "source": [
    "### **Tune each model to optimize performance on the test set.**\n",
    "- After using a loop to tune each model, remember to create the best version of the model using the best hyperparameter values for the model based on the metrics you generated in your loop. The metrics from this best version model are what you will compare to the metrics of the other best version models to determine the overall best model."
   ]
  },
  {
   "attachments": {},
   "cell_type": "markdown",
   "metadata": {},
   "source": [
    "#### **Decision Tree Tuning**"
   ]
  },
  {
   "cell_type": "code",
   "execution_count": 380,
   "metadata": {},
   "outputs": [
    {
     "data": {
      "text/html": [
       "<div>\n",
       "<style scoped>\n",
       "    .dataframe tbody tr th:only-of-type {\n",
       "        vertical-align: middle;\n",
       "    }\n",
       "\n",
       "    .dataframe tbody tr th {\n",
       "        vertical-align: top;\n",
       "    }\n",
       "\n",
       "    .dataframe thead th {\n",
       "        text-align: right;\n",
       "    }\n",
       "</style>\n",
       "<table border=\"1\" class=\"dataframe\">\n",
       "  <thead>\n",
       "    <tr style=\"text-align: right;\">\n",
       "      <th></th>\n",
       "      <th>Depth</th>\n",
       "      <th>Train R-Squared</th>\n",
       "      <th>Test R-Squared</th>\n",
       "    </tr>\n",
       "  </thead>\n",
       "  <tbody>\n",
       "    <tr>\n",
       "      <th>39</th>\n",
       "      <td>11.0</td>\n",
       "      <td>0.991100</td>\n",
       "      <td>0.847881</td>\n",
       "    </tr>\n",
       "    <tr>\n",
       "      <th>43</th>\n",
       "      <td>7.0</td>\n",
       "      <td>0.958517</td>\n",
       "      <td>0.834341</td>\n",
       "    </tr>\n",
       "    <tr>\n",
       "      <th>40</th>\n",
       "      <td>10.0</td>\n",
       "      <td>0.986796</td>\n",
       "      <td>0.822949</td>\n",
       "    </tr>\n",
       "  </tbody>\n",
       "</table>\n",
       "</div>"
      ],
      "text/plain": [
       "    Depth  Train R-Squared  Test R-Squared\n",
       "39   11.0         0.991100        0.847881\n",
       "43    7.0         0.958517        0.834341\n",
       "40   10.0         0.986796        0.822949"
      ]
     },
     "execution_count": 380,
     "metadata": {},
     "output_type": "execute_result"
    }
   ],
   "source": [
    "# DataFrame to hold the various hyperparameter tunings\n",
    "depths = pd.DataFrame({\n",
    "    \"Depth\": [],\n",
    "    \"Train R-Squared\": [],\n",
    "    \"Test R-Squared\": []\n",
    "})\n",
    "# Loop through pontential parameters\n",
    "for number in range(1, 51):\n",
    "    temp_decision_tree = DecisionTreeRegressor(max_depth=number, criterion=\"friedman_mse\", random_state=42)\n",
    "    temp_decision_tree.fit(X_train, y_train)\n",
    "    train_r2, test_r2 = regressor_eval(temp_decision_tree, train_test_split_tuple)\n",
    "    depths.loc[-1] = [number, train_r2, test_r2]\n",
    "    depths.index = depths.index + 1\n",
    "# Show the best result\n",
    "depths.sort_values(\"Test R-Squared\", ascending=False).head(3)"
   ]
  },
  {
   "attachments": {},
   "cell_type": "markdown",
   "metadata": {},
   "source": [
    "#### **Bagged Tree Tuning**"
   ]
  },
  {
   "cell_type": "code",
   "execution_count": 383,
   "metadata": {},
   "outputs": [
    {
     "data": {
      "text/html": [
       "<div>\n",
       "<style scoped>\n",
       "    .dataframe tbody tr th:only-of-type {\n",
       "        vertical-align: middle;\n",
       "    }\n",
       "\n",
       "    .dataframe tbody tr th {\n",
       "        vertical-align: top;\n",
       "    }\n",
       "\n",
       "    .dataframe thead th {\n",
       "        text-align: right;\n",
       "    }\n",
       "</style>\n",
       "<table border=\"1\" class=\"dataframe\">\n",
       "  <thead>\n",
       "    <tr style=\"text-align: right;\">\n",
       "      <th></th>\n",
       "      <th>Estimator</th>\n",
       "      <th>Train R-Squared</th>\n",
       "      <th>Test R-Squared</th>\n",
       "    </tr>\n",
       "  </thead>\n",
       "  <tbody>\n",
       "    <tr>\n",
       "      <th>42</th>\n",
       "      <td>8.0</td>\n",
       "      <td>0.964612</td>\n",
       "      <td>0.837922</td>\n",
       "    </tr>\n",
       "    <tr>\n",
       "      <th>45</th>\n",
       "      <td>5.0</td>\n",
       "      <td>0.958592</td>\n",
       "      <td>0.835033</td>\n",
       "    </tr>\n",
       "    <tr>\n",
       "      <th>43</th>\n",
       "      <td>7.0</td>\n",
       "      <td>0.958544</td>\n",
       "      <td>0.834858</td>\n",
       "    </tr>\n",
       "  </tbody>\n",
       "</table>\n",
       "</div>"
      ],
      "text/plain": [
       "    Estimator  Train R-Squared  Test R-Squared\n",
       "42        8.0         0.964612        0.837922\n",
       "45        5.0         0.958592        0.835033\n",
       "43        7.0         0.958544        0.834858"
      ]
     },
     "execution_count": 383,
     "metadata": {},
     "output_type": "execute_result"
    }
   ],
   "source": [
    "# DataFrame to hold the various hyperparameter tunings\n",
    "estimator = pd.DataFrame({\n",
    "    \"Estimator\": [],\n",
    "    \"Train R-Squared\": [],\n",
    "    \"Test R-Squared\": []\n",
    "})\n",
    "# Loop through pontential parameters\n",
    "for number in range(1, 51):\n",
    "    temp_bagged_tree = BaggingRegressor(n_estimators=number, random_state=42)\n",
    "    temp_bagged_tree.fit(X_train, y_train)\n",
    "    train_r2, test_r2 = regressor_eval(temp_bagged_tree, train_test_split_tuple)\n",
    "    estimator.loc[-1] = [number, train_r2, test_r2]\n",
    "    estimator.index = estimator.index + 1\n",
    "# Show the best result\n",
    "estimator.sort_values(\"Test R-Squared\", ascending=False).head(3)"
   ]
  },
  {
   "attachments": {},
   "cell_type": "markdown",
   "metadata": {},
   "source": [
    "#### **Random Forest Tuning**"
   ]
  },
  {
   "cell_type": "code",
   "execution_count": 385,
   "metadata": {},
   "outputs": [
    {
     "data": {
      "text/html": [
       "<div>\n",
       "<style scoped>\n",
       "    .dataframe tbody tr th:only-of-type {\n",
       "        vertical-align: middle;\n",
       "    }\n",
       "\n",
       "    .dataframe tbody tr th {\n",
       "        vertical-align: top;\n",
       "    }\n",
       "\n",
       "    .dataframe thead th {\n",
       "        text-align: right;\n",
       "    }\n",
       "</style>\n",
       "<table border=\"1\" class=\"dataframe\">\n",
       "  <thead>\n",
       "    <tr style=\"text-align: right;\">\n",
       "      <th></th>\n",
       "      <th>Estimator</th>\n",
       "      <th>Depth</th>\n",
       "      <th>Train R-Squared</th>\n",
       "      <th>Test R-Squared</th>\n",
       "    </tr>\n",
       "  </thead>\n",
       "  <tbody>\n",
       "    <tr>\n",
       "      <th>2140</th>\n",
       "      <td>8.0</td>\n",
       "      <td>10.0</td>\n",
       "      <td>0.960260</td>\n",
       "      <td>0.845709</td>\n",
       "    </tr>\n",
       "    <tr>\n",
       "      <th>2190</th>\n",
       "      <td>7.0</td>\n",
       "      <td>10.0</td>\n",
       "      <td>0.954286</td>\n",
       "      <td>0.840736</td>\n",
       "    </tr>\n",
       "    <tr>\n",
       "      <th>2138</th>\n",
       "      <td>8.0</td>\n",
       "      <td>12.0</td>\n",
       "      <td>0.961838</td>\n",
       "      <td>0.840439</td>\n",
       "    </tr>\n",
       "  </tbody>\n",
       "</table>\n",
       "</div>"
      ],
      "text/plain": [
       "      Estimator  Depth  Train R-Squared  Test R-Squared\n",
       "2140        8.0   10.0         0.960260        0.845709\n",
       "2190        7.0   10.0         0.954286        0.840736\n",
       "2138        8.0   12.0         0.961838        0.840439"
      ]
     },
     "execution_count": 385,
     "metadata": {},
     "output_type": "execute_result"
    }
   ],
   "source": [
    "hyperparams = pd.DataFrame({\n",
    "    \"Estimator\": [0],\n",
    "    \"Depth\": [0],\n",
    "    \"Train R-Squared\": [0],\n",
    "    \"Test R-Squared\": [0]\n",
    "})\n",
    "\n",
    "for estimator in range(1, 51, 1):\n",
    "    for depth in range(1, 51, 1):\n",
    "        temp_random_forest = RandomForestRegressor(max_depth=depth, \n",
    "                                                   n_estimators=estimator,\n",
    "                                                   random_state=42)\n",
    "        temp_random_forest.fit(X_train, y_train)\n",
    "        train_r2, test_r2 = regressor_eval(temp_random_forest, train_test_split_tuple)\n",
    "        hyperparams.loc[-1] = [estimator, depth, train_r2, test_r2]\n",
    "        hyperparams.index = hyperparams.index + 1\n",
    "\n",
    "hyperparams.sort_values(\"Test R-Squared\", ascending=False).head(3)"
   ]
  },
  {
   "attachments": {},
   "cell_type": "markdown",
   "metadata": {},
   "source": [
    "### **Evaluate your best model using multiple regression metrics.**"
   ]
  },
  {
   "attachments": {},
   "cell_type": "markdown",
   "metadata": {},
   "source": [
    "### **Explain in a text cell how your model will perform if deployed by referring to the metrics.  Ex. How close can your stakeholders expect its predictions to be to the true value?**"
   ]
  }
 ],
 "metadata": {
  "kernelspec": {
   "display_name": "Python 3",
   "language": "python",
   "name": "python3"
  },
  "language_info": {
   "codemirror_mode": {
    "name": "ipython",
    "version": 3
   },
   "file_extension": ".py",
   "mimetype": "text/x-python",
   "name": "python",
   "nbconvert_exporter": "python",
   "pygments_lexer": "ipython3",
   "version": "3.10.10"
  },
  "orig_nbformat": 4
 },
 "nbformat": 4,
 "nbformat_minor": 2
}
