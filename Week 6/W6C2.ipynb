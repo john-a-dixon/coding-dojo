{
 "cells": [
  {
   "attachments": {},
   "cell_type": "markdown",
   "metadata": {},
   "source": [
    "# **Ensemble Trees Exercise**\n",
    "\n",
    "_John Andrew Dixon_\n",
    "\n",
    "---\n",
    "\n",
    "**Setup**"
   ]
  },
  {
   "cell_type": "code",
   "execution_count": 463,
   "metadata": {},
   "outputs": [],
   "source": [
    "import pandas as pd\n",
    "import numpy as np\n",
    "from sklearn.model_selection import train_test_split\n",
    "from sklearn.tree import DecisionTreeRegressor\n",
    "from sklearn.ensemble import BaggingRegressor, RandomForestRegressor\n",
    "from sklearn.metrics import mean_absolute_error, mean_squared_error"
   ]
  },
  {
   "cell_type": "code",
   "execution_count": 464,
   "metadata": {},
   "outputs": [
    {
     "name": "stdout",
     "output_type": "stream",
     "text": [
      "<class 'pandas.core.frame.DataFrame'>\n",
      "RangeIndex: 506 entries, 0 to 505\n",
      "Data columns (total 7 columns):\n",
      " #   Column   Non-Null Count  Dtype  \n",
      "---  ------   --------------  -----  \n",
      " 0   CRIM     506 non-null    float64\n",
      " 1   NOX      506 non-null    float64\n",
      " 2   RM       506 non-null    float64\n",
      " 3   AGE      506 non-null    float64\n",
      " 4   PTRATIO  506 non-null    float64\n",
      " 5   LSTAT    506 non-null    float64\n",
      " 6   PRICE    506 non-null    float64\n",
      "dtypes: float64(7)\n",
      "memory usage: 27.8 KB\n"
     ]
    }
   ],
   "source": [
    "# Remote URL to the data\n",
    "url =\"https://docs.google.com/spreadsheets/d/e/2PACX-1vSQc1CsJ25nPMJcuJD04csFCysrzuInd_IQ_drLza49m_3R4MllPcuhduu4GozMJun3MgUJkGl0cw-d/pub?output=csv\"\n",
    "# Load and verify data\n",
    "df = pd.read_csv(url)\n",
    "df.info()"
   ]
  },
  {
   "cell_type": "code",
   "execution_count": 545,
   "metadata": {},
   "outputs": [],
   "source": [
    "# Function for evaluating regression R^2 scores\n",
    "def metrics(regressor, training, testing):\n",
    "    \"\"\"Function for evaluating a model's R^2 scores\"\"\"\n",
    "    predictions = {\n",
    "        \"training\": regressor.predict(training[\"X\"]),\n",
    "        \"testing\": regressor.predict(testing[\"X\"])\n",
    "    }\n",
    "\n",
    "    metrics_df = pd.DataFrame({\n",
    "        \"R2\": [regressor.score(training[\"X\"], training[\"y\"]), regressor.score(testing[\"X\"], testing[\"y\"])],\n",
    "        \"MAE\": [mean_absolute_error(training[\"y\"], predictions[\"training\"]), mean_absolute_error(testing[\"y\"], predictions[\"testing\"])],\n",
    "        \"MSE\": [mean_squared_error(training[\"y\"], predictions[\"training\"]), mean_squared_error(testing[\"y\"], predictions[\"testing\"])],\n",
    "        \"RMSE\": [np.sqrt(mean_squared_error(training[\"y\"], predictions[\"training\"])), np.sqrt(mean_squared_error(testing[\"y\"], predictions[\"testing\"]))]\n",
    "    }, index=[\"Training\", \"Testing\"])\n",
    "    return metrics_df"
   ]
  },
  {
   "attachments": {},
   "cell_type": "markdown",
   "metadata": {},
   "source": [
    "---\n",
    "\n",
    "## **Tasks**\n",
    "\n",
    "### **Try a Decision Tree, Bagged Tree, and Random Forest.**"
   ]
  },
  {
   "cell_type": "code",
   "execution_count": 546,
   "metadata": {},
   "outputs": [],
   "source": [
    "# Create feature matrix and target vector\n",
    "X = df.drop(columns=\"PRICE\")\n",
    "y = df[\"PRICE\"]"
   ]
  },
  {
   "cell_type": "code",
   "execution_count": 547,
   "metadata": {},
   "outputs": [],
   "source": [
    "# Train test split\n",
    "X_train, X_test, y_train, y_test = train_test_split(X, y, random_state=42)\n",
    "training_set = {\"X\": X_train, \"y\": y_train}\n",
    "testing_set = {\"X\": X_test, \"y\": y_test}"
   ]
  },
  {
   "cell_type": "code",
   "execution_count": 548,
   "metadata": {},
   "outputs": [],
   "source": [
    "# Bring default trees and forest regressors into the mix\n",
    "dt_default = DecisionTreeRegressor(random_state=42)\n",
    "bt_default = BaggingRegressor(random_state=42)\n",
    "rf_default = RandomForestRegressor(random_state=42)"
   ]
  },
  {
   "cell_type": "code",
   "execution_count": 549,
   "metadata": {},
   "outputs": [],
   "source": [
    "# Fit all of them to the training data\n",
    "dt_default.fit(X_train, y_train)\n",
    "bt_default.fit(X_train, y_train)\n",
    "rf_default.fit(X_train, y_train)\n",
    "print(end='')"
   ]
  },
  {
   "cell_type": "code",
   "execution_count": 577,
   "metadata": {},
   "outputs": [
    {
     "data": {
      "text/html": [
       "<div>\n",
       "<style scoped>\n",
       "    .dataframe tbody tr th:only-of-type {\n",
       "        vertical-align: middle;\n",
       "    }\n",
       "\n",
       "    .dataframe tbody tr th {\n",
       "        vertical-align: top;\n",
       "    }\n",
       "\n",
       "    .dataframe thead th {\n",
       "        text-align: right;\n",
       "    }\n",
       "</style>\n",
       "<table border=\"1\" class=\"dataframe\">\n",
       "  <thead>\n",
       "    <tr style=\"text-align: right;\">\n",
       "      <th></th>\n",
       "      <th>R2</th>\n",
       "      <th>MAE</th>\n",
       "      <th>MSE</th>\n",
       "      <th>RMSE</th>\n",
       "    </tr>\n",
       "  </thead>\n",
       "  <tbody>\n",
       "    <tr>\n",
       "      <th>Training</th>\n",
       "      <td>0.977134</td>\n",
       "      <td>0.953546</td>\n",
       "      <td>2.027774</td>\n",
       "      <td>1.423999</td>\n",
       "    </tr>\n",
       "    <tr>\n",
       "      <th>Testing</th>\n",
       "      <td>0.833853</td>\n",
       "      <td>2.207858</td>\n",
       "      <td>11.634795</td>\n",
       "      <td>3.410981</td>\n",
       "    </tr>\n",
       "  </tbody>\n",
       "</table>\n",
       "</div>"
      ],
      "text/plain": [
       "                R2       MAE        MSE      RMSE\n",
       "Training  0.977134  0.953546   2.027774  1.423999\n",
       "Testing   0.833853  2.207858  11.634795  3.410981"
      ]
     },
     "execution_count": 577,
     "metadata": {},
     "output_type": "execute_result"
    }
   ],
   "source": [
    "metrics(dt_default, training_set, testing_set)\n",
    "metrics(bt_default, training_set, testing_set)\n",
    "metrics(rf_default, training_set, testing_set)"
   ]
  },
  {
   "attachments": {},
   "cell_type": "markdown",
   "metadata": {},
   "source": [
    "### **Tune each model to optimize performance on the test set.**\n",
    "- After using a loop to tune each model, remember to create the best version of the model using the best hyperparameter values for the model based on the metrics you generated in your loop. The metrics from this best version model are what you will compare to the metrics of the other best version models to determine the overall best model."
   ]
  },
  {
   "attachments": {},
   "cell_type": "markdown",
   "metadata": {},
   "source": [
    "#### **Decision Tree Tuning**"
   ]
  },
  {
   "cell_type": "code",
   "execution_count": 578,
   "metadata": {},
   "outputs": [],
   "source": [
    "from sklearn.model_selection import GridSearchCV\n",
    "from sklearn.metrics import make_scorer"
   ]
  },
  {
   "cell_type": "code",
   "execution_count": null,
   "metadata": {},
   "outputs": [],
   "source": []
  },
  {
   "cell_type": "code",
   "execution_count": 579,
   "metadata": {},
   "outputs": [
    {
     "data": {
      "text/plain": [
       "-2.9928588529590363"
      ]
     },
     "metadata": {},
     "output_type": "display_data"
    },
    {
     "data": {
      "text/plain": [
       "{'criterion': 'friedman_mse', 'max_depth': 5}"
      ]
     },
     "metadata": {},
     "output_type": "display_data"
    },
    {
     "data": {
      "text/html": [
       "<div>\n",
       "<style scoped>\n",
       "    .dataframe tbody tr th:only-of-type {\n",
       "        vertical-align: middle;\n",
       "    }\n",
       "\n",
       "    .dataframe tbody tr th {\n",
       "        vertical-align: top;\n",
       "    }\n",
       "\n",
       "    .dataframe thead th {\n",
       "        text-align: right;\n",
       "    }\n",
       "</style>\n",
       "<table border=\"1\" class=\"dataframe\">\n",
       "  <thead>\n",
       "    <tr style=\"text-align: right;\">\n",
       "      <th></th>\n",
       "      <th>R2</th>\n",
       "      <th>MAE</th>\n",
       "      <th>MSE</th>\n",
       "      <th>RMSE</th>\n",
       "    </tr>\n",
       "  </thead>\n",
       "  <tbody>\n",
       "    <tr>\n",
       "      <th>Training</th>\n",
       "      <td>0.986796</td>\n",
       "      <td>0.57831</td>\n",
       "      <td>1.170932</td>\n",
       "      <td>1.082096</td>\n",
       "    </tr>\n",
       "    <tr>\n",
       "      <th>Testing</th>\n",
       "      <td>0.822949</td>\n",
       "      <td>2.62583</td>\n",
       "      <td>12.398358</td>\n",
       "      <td>3.521130</td>\n",
       "    </tr>\n",
       "  </tbody>\n",
       "</table>\n",
       "</div>"
      ],
      "text/plain": [
       "                R2      MAE        MSE      RMSE\n",
       "Training  0.986796  0.57831   1.170932  1.082096\n",
       "Testing   0.822949  2.62583  12.398358  3.521130"
      ]
     },
     "execution_count": 579,
     "metadata": {},
     "output_type": "execute_result"
    }
   ],
   "source": [
    "param_grid = {\n",
    "    \"criterion\": [\"squared_error\", \"friedman_mse\", \"absolute_error\", \"poisson\"],\n",
    "    \"max_depth\": [number for number in range(1, 101, 1)]\n",
    "}\n",
    "dt_grid_search = GridSearchCV(\n",
    "    estimator=dt_default,\n",
    "    param_grid=param_grid,\n",
    "    cv=4,\n",
    "    n_jobs=-1\n",
    ")\n",
    "\n",
    "dt_grid_search.fit(X_train, y_train)\n",
    "display(dt_grid_search.best_score_, dt_grid_search.best_params_)\n",
    "\n",
    "dt = DecisionTreeRegressor(\n",
    "    criterion=\"friedman_mse\",\n",
    "    max_depth=10,\n",
    "    random_state=42\n",
    ")\n",
    "dt.fit(X_train, y_train)\n",
    "metrics(dt, training_set, testing_set)"
   ]
  },
  {
   "cell_type": "code",
   "execution_count": 580,
   "metadata": {},
   "outputs": [
    {
     "name": "stdout",
     "output_type": "stream",
     "text": [
      "Goal: > 0.847881\n"
     ]
    }
   ],
   "source": [
    "print(f\"Goal: > {0.847881}\")"
   ]
  },
  {
   "attachments": {},
   "cell_type": "markdown",
   "metadata": {},
   "source": [
    "### **Evaluate your best model using multiple regression metrics.**"
   ]
  },
  {
   "attachments": {},
   "cell_type": "markdown",
   "metadata": {},
   "source": [
    "### **Explain in a text cell how your model will perform if deployed by referring to the metrics.  Ex. How close can your stakeholders expect its predictions to be to the true value?**"
   ]
  }
 ],
 "metadata": {
  "kernelspec": {
   "display_name": "Python 3",
   "language": "python",
   "name": "python3"
  },
  "language_info": {
   "codemirror_mode": {
    "name": "ipython",
    "version": 3
   },
   "file_extension": ".py",
   "mimetype": "text/x-python",
   "name": "python",
   "nbconvert_exporter": "python",
   "pygments_lexer": "ipython3",
   "version": "3.10.10"
  },
  "orig_nbformat": 4
 },
 "nbformat": 4,
 "nbformat_minor": 2
}
