{
 "cells": [
  {
   "attachments": {},
   "cell_type": "markdown",
   "metadata": {},
   "source": [
    "# **Ensemble Trees Exercise**\n",
    "\n",
    "_John Andrew Dixon_\n",
    "\n",
    "---\n",
    "\n",
    "**Setup**"
   ]
  },
  {
   "cell_type": "code",
   "execution_count": 146,
   "metadata": {},
   "outputs": [],
   "source": [
    "import pandas as pd\n",
    "import numpy as np\n",
    "from sklearn.model_selection import train_test_split\n",
    "from sklearn.tree import DecisionTreeRegressor\n",
    "from sklearn.ensemble import BaggingRegressor, RandomForestRegressor\n",
    "from sklearn.metrics import mean_absolute_error, mean_squared_error\n",
    "from sklearn.model_selection import GridSearchCV"
   ]
  },
  {
   "cell_type": "code",
   "execution_count": 147,
   "metadata": {},
   "outputs": [
    {
     "name": "stdout",
     "output_type": "stream",
     "text": [
      "<class 'pandas.core.frame.DataFrame'>\n",
      "RangeIndex: 506 entries, 0 to 505\n",
      "Data columns (total 7 columns):\n",
      " #   Column   Non-Null Count  Dtype  \n",
      "---  ------   --------------  -----  \n",
      " 0   CRIM     506 non-null    float64\n",
      " 1   NOX      506 non-null    float64\n",
      " 2   RM       506 non-null    float64\n",
      " 3   AGE      506 non-null    float64\n",
      " 4   PTRATIO  506 non-null    float64\n",
      " 5   LSTAT    506 non-null    float64\n",
      " 6   PRICE    506 non-null    float64\n",
      "dtypes: float64(7)\n",
      "memory usage: 27.8 KB\n"
     ]
    }
   ],
   "source": [
    "# Remote URL to the data\n",
    "url =\"https://docs.google.com/spreadsheets/d/e/2PACX-1vSQc1CsJ25nPMJcuJD04csFCysrzuInd_IQ_drLza49m_3R4MllPcuhduu4GozMJun3MgUJkGl0cw-d/pub?output=csv\"\n",
    "# Load and verify data\n",
    "df = pd.read_csv(url)\n",
    "df.info()"
   ]
  },
  {
   "cell_type": "code",
   "execution_count": 148,
   "metadata": {},
   "outputs": [],
   "source": [
    "# Function for evaluating regression R^2 scores\n",
    "def metrics(regressor, training, testing):\n",
    "    \"\"\"Function for evaluating a model's R^2 scores\"\"\"\n",
    "    predictions = {\n",
    "        \"training\": regressor.predict(training[\"X\"]),\n",
    "        \"testing\": regressor.predict(testing[\"X\"])\n",
    "    }\n",
    "\n",
    "    metrics_df = pd.DataFrame({\n",
    "        \"R2\": [regressor.score(training[\"X\"], training[\"y\"]), regressor.score(testing[\"X\"], testing[\"y\"])],\n",
    "        \"MAE\": [mean_absolute_error(training[\"y\"], predictions[\"training\"]), mean_absolute_error(testing[\"y\"], predictions[\"testing\"])],\n",
    "        \"MSE\": [mean_squared_error(training[\"y\"], predictions[\"training\"]), mean_squared_error(testing[\"y\"], predictions[\"testing\"])],\n",
    "        \"RMSE\": [np.sqrt(mean_squared_error(training[\"y\"], predictions[\"training\"])), np.sqrt(mean_squared_error(testing[\"y\"], predictions[\"testing\"]))]\n",
    "    }, index=[\"Training\", \"Testing\"])\n",
    "    return metrics_df"
   ]
  },
  {
   "attachments": {},
   "cell_type": "markdown",
   "metadata": {},
   "source": [
    "---\n",
    "\n",
    "## **Tasks**\n",
    "\n",
    "### **Try a Decision Tree, Bagged Tree, and Random Forest.**"
   ]
  },
  {
   "cell_type": "code",
   "execution_count": 149,
   "metadata": {},
   "outputs": [],
   "source": [
    "# Create feature matrix and target vector\n",
    "X = df.drop(columns=\"PRICE\")\n",
    "y = df[\"PRICE\"]"
   ]
  },
  {
   "cell_type": "code",
   "execution_count": 150,
   "metadata": {},
   "outputs": [],
   "source": [
    "# Train test split\n",
    "X_train, X_test, y_train, y_test = train_test_split(X, y, random_state=42)\n",
    "training_set = {\"X\": X_train, \"y\": y_train}\n",
    "testing_set = {\"X\": X_test, \"y\": y_test}"
   ]
  },
  {
   "cell_type": "code",
   "execution_count": 151,
   "metadata": {},
   "outputs": [],
   "source": [
    "# Bring default trees and forest regressors into the mix\n",
    "dt_default = DecisionTreeRegressor(random_state=42)\n",
    "bt_default = BaggingRegressor(random_state=42)\n",
    "rf_default = RandomForestRegressor(random_state=42)"
   ]
  },
  {
   "cell_type": "code",
   "execution_count": 152,
   "metadata": {},
   "outputs": [],
   "source": [
    "# Fit all of them to the training data\n",
    "dt_default.fit(X_train, y_train)\n",
    "bt_default.fit(X_train, y_train)\n",
    "rf_default.fit(X_train, y_train)\n",
    "print(end='')"
   ]
  },
  {
   "cell_type": "code",
   "execution_count": 164,
   "metadata": {},
   "outputs": [
    {
     "name": "stdout",
     "output_type": "stream",
     "text": [
      "DecisionTreeRegressor\n"
     ]
    },
    {
     "data": {
      "text/html": [
       "<div>\n",
       "<style scoped>\n",
       "    .dataframe tbody tr th:only-of-type {\n",
       "        vertical-align: middle;\n",
       "    }\n",
       "\n",
       "    .dataframe tbody tr th {\n",
       "        vertical-align: top;\n",
       "    }\n",
       "\n",
       "    .dataframe thead th {\n",
       "        text-align: right;\n",
       "    }\n",
       "</style>\n",
       "<table border=\"1\" class=\"dataframe\">\n",
       "  <thead>\n",
       "    <tr style=\"text-align: right;\">\n",
       "      <th></th>\n",
       "      <th>R2</th>\n",
       "      <th>MAE</th>\n",
       "      <th>MSE</th>\n",
       "      <th>RMSE</th>\n",
       "    </tr>\n",
       "  </thead>\n",
       "  <tbody>\n",
       "    <tr>\n",
       "      <th>Training</th>\n",
       "      <td>1.000000</td>\n",
       "      <td>0.000000</td>\n",
       "      <td>0.000000</td>\n",
       "      <td>0.000000</td>\n",
       "    </tr>\n",
       "    <tr>\n",
       "      <th>Testing</th>\n",
       "      <td>0.619323</td>\n",
       "      <td>3.140945</td>\n",
       "      <td>26.657717</td>\n",
       "      <td>5.163111</td>\n",
       "    </tr>\n",
       "  </tbody>\n",
       "</table>\n",
       "</div>"
      ],
      "text/plain": [
       "                R2       MAE        MSE      RMSE\n",
       "Training  1.000000  0.000000   0.000000  0.000000\n",
       "Testing   0.619323  3.140945  26.657717  5.163111"
      ]
     },
     "metadata": {},
     "output_type": "display_data"
    },
    {
     "name": "stdout",
     "output_type": "stream",
     "text": [
      "BaggingRegressor\n"
     ]
    },
    {
     "data": {
      "text/html": [
       "<div>\n",
       "<style scoped>\n",
       "    .dataframe tbody tr th:only-of-type {\n",
       "        vertical-align: middle;\n",
       "    }\n",
       "\n",
       "    .dataframe tbody tr th {\n",
       "        vertical-align: top;\n",
       "    }\n",
       "\n",
       "    .dataframe thead th {\n",
       "        text-align: right;\n",
       "    }\n",
       "</style>\n",
       "<table border=\"1\" class=\"dataframe\">\n",
       "  <thead>\n",
       "    <tr style=\"text-align: right;\">\n",
       "      <th></th>\n",
       "      <th>R2</th>\n",
       "      <th>MAE</th>\n",
       "      <th>MSE</th>\n",
       "      <th>RMSE</th>\n",
       "    </tr>\n",
       "  </thead>\n",
       "  <tbody>\n",
       "    <tr>\n",
       "      <th>Training</th>\n",
       "      <td>0.960676</td>\n",
       "      <td>1.103325</td>\n",
       "      <td>3.487356</td>\n",
       "      <td>1.867446</td>\n",
       "    </tr>\n",
       "    <tr>\n",
       "      <th>Testing</th>\n",
       "      <td>0.820421</td>\n",
       "      <td>2.315512</td>\n",
       "      <td>12.575417</td>\n",
       "      <td>3.546183</td>\n",
       "    </tr>\n",
       "  </tbody>\n",
       "</table>\n",
       "</div>"
      ],
      "text/plain": [
       "                R2       MAE        MSE      RMSE\n",
       "Training  0.960676  1.103325   3.487356  1.867446\n",
       "Testing   0.820421  2.315512  12.575417  3.546183"
      ]
     },
     "metadata": {},
     "output_type": "display_data"
    },
    {
     "name": "stdout",
     "output_type": "stream",
     "text": [
      "RandomForestRegressor\n"
     ]
    },
    {
     "data": {
      "text/html": [
       "<div>\n",
       "<style scoped>\n",
       "    .dataframe tbody tr th:only-of-type {\n",
       "        vertical-align: middle;\n",
       "    }\n",
       "\n",
       "    .dataframe tbody tr th {\n",
       "        vertical-align: top;\n",
       "    }\n",
       "\n",
       "    .dataframe thead th {\n",
       "        text-align: right;\n",
       "    }\n",
       "</style>\n",
       "<table border=\"1\" class=\"dataframe\">\n",
       "  <thead>\n",
       "    <tr style=\"text-align: right;\">\n",
       "      <th></th>\n",
       "      <th>R2</th>\n",
       "      <th>MAE</th>\n",
       "      <th>MSE</th>\n",
       "      <th>RMSE</th>\n",
       "    </tr>\n",
       "  </thead>\n",
       "  <tbody>\n",
       "    <tr>\n",
       "      <th>Training</th>\n",
       "      <td>0.977134</td>\n",
       "      <td>0.953546</td>\n",
       "      <td>2.027774</td>\n",
       "      <td>1.423999</td>\n",
       "    </tr>\n",
       "    <tr>\n",
       "      <th>Testing</th>\n",
       "      <td>0.833853</td>\n",
       "      <td>2.207858</td>\n",
       "      <td>11.634795</td>\n",
       "      <td>3.410981</td>\n",
       "    </tr>\n",
       "  </tbody>\n",
       "</table>\n",
       "</div>"
      ],
      "text/plain": [
       "                R2       MAE        MSE      RMSE\n",
       "Training  0.977134  0.953546   2.027774  1.423999\n",
       "Testing   0.833853  2.207858  11.634795  3.410981"
      ]
     },
     "execution_count": 164,
     "metadata": {},
     "output_type": "execute_result"
    }
   ],
   "source": [
    "print(\"DecisionTreeRegressor\")\n",
    "display(metrics(dt_default, training_set, testing_set))\n",
    "print(\"BaggingRegressor\")\n",
    "display(metrics(bt_default, training_set, testing_set))\n",
    "print(\"RandomForestRegressor\")\n",
    "metrics(rf_default, training_set, testing_set)"
   ]
  },
  {
   "attachments": {},
   "cell_type": "markdown",
   "metadata": {},
   "source": [
    "### **Tune each model to optimize performance on the test set.**\n",
    "- After using a loop to tune each model, remember to create the best version of the model using the best hyperparameter values for the model based on the metrics you generated in your loop. The metrics from this best version model are what you will compare to the metrics of the other best version models to determine the overall best model."
   ]
  },
  {
   "attachments": {},
   "cell_type": "markdown",
   "metadata": {},
   "source": [
    "#### **Decision Tree Tuning**"
   ]
  },
  {
   "cell_type": "code",
   "execution_count": 181,
   "metadata": {},
   "outputs": [
    {
     "data": {
      "text/html": [
       "<div>\n",
       "<style scoped>\n",
       "    .dataframe tbody tr th:only-of-type {\n",
       "        vertical-align: middle;\n",
       "    }\n",
       "\n",
       "    .dataframe tbody tr th {\n",
       "        vertical-align: top;\n",
       "    }\n",
       "\n",
       "    .dataframe thead th {\n",
       "        text-align: right;\n",
       "    }\n",
       "</style>\n",
       "<table border=\"1\" class=\"dataframe\">\n",
       "  <thead>\n",
       "    <tr style=\"text-align: right;\">\n",
       "      <th></th>\n",
       "      <th>Depth</th>\n",
       "      <th>Train R-Squared</th>\n",
       "      <th>Test R-Squared</th>\n",
       "    </tr>\n",
       "  </thead>\n",
       "  <tbody>\n",
       "    <tr>\n",
       "      <th>6</th>\n",
       "      <td>7.0</td>\n",
       "      <td>0.958517</td>\n",
       "      <td>0.846377</td>\n",
       "    </tr>\n",
       "    <tr>\n",
       "      <th>9</th>\n",
       "      <td>10.0</td>\n",
       "      <td>0.986796</td>\n",
       "      <td>0.846010</td>\n",
       "    </tr>\n",
       "    <tr>\n",
       "      <th>10</th>\n",
       "      <td>11.0</td>\n",
       "      <td>0.991100</td>\n",
       "      <td>0.829736</td>\n",
       "    </tr>\n",
       "  </tbody>\n",
       "</table>\n",
       "</div>"
      ],
      "text/plain": [
       "    Depth  Train R-Squared  Test R-Squared\n",
       "6     7.0         0.958517        0.846377\n",
       "9    10.0         0.986796        0.846010\n",
       "10   11.0         0.991100        0.829736"
      ]
     },
     "execution_count": 181,
     "metadata": {},
     "output_type": "execute_result"
    }
   ],
   "source": [
    "# DataFrame to hold the depth tuning\n",
    "tuning = pd.DataFrame({\n",
    "    \"Depth\": [],\n",
    "    \"Train R-Squared\": [],\n",
    "    \"Test R-Squared\": []\n",
    "})\n",
    "\n",
    "# Loop through pontential parameters\n",
    "for number in range(1, 51):\n",
    "    temp = DecisionTreeRegressor(max_depth=number, random_state=42)\n",
    "    temp.fit(X_train, y_train)\n",
    "    metrics_df = metrics(temp, training_set, testing_set).T\n",
    "    tuning.loc[len(tuning)] = [number, metrics_df.iloc[0][0], metrics_df.iloc[0][1]]\n",
    "\n",
    "# Get the depth that has the best test R^2\n",
    "tuning.sort_values(\"Test R-Squared\", ascending=False).head(3)"
   ]
  },
  {
   "attachments": {},
   "cell_type": "markdown",
   "metadata": {},
   "source": [
    "#### **Bagged Tree Tuning**"
   ]
  },
  {
   "cell_type": "code",
   "execution_count": null,
   "metadata": {},
   "outputs": [],
   "source": []
  },
  {
   "attachments": {},
   "cell_type": "markdown",
   "metadata": {},
   "source": [
    "#### **Random Forest Tuning**"
   ]
  },
  {
   "cell_type": "code",
   "execution_count": null,
   "metadata": {},
   "outputs": [],
   "source": []
  },
  {
   "attachments": {},
   "cell_type": "markdown",
   "metadata": {},
   "source": [
    "### **Evaluate your best model using multiple regression metrics.**"
   ]
  },
  {
   "attachments": {},
   "cell_type": "markdown",
   "metadata": {},
   "source": [
    "### **Explain in a text cell how your model will perform if deployed by referring to the metrics.  Ex. How close can your stakeholders expect its predictions to be to the true value?**"
   ]
  }
 ],
 "metadata": {
  "kernelspec": {
   "display_name": "Python 3",
   "language": "python",
   "name": "python3"
  },
  "language_info": {
   "codemirror_mode": {
    "name": "ipython",
    "version": 3
   },
   "file_extension": ".py",
   "mimetype": "text/x-python",
   "name": "python",
   "nbconvert_exporter": "python",
   "pygments_lexer": "ipython3",
   "version": "3.10.10"
  },
  "orig_nbformat": 4
 },
 "nbformat": 4,
 "nbformat_minor": 2
}
