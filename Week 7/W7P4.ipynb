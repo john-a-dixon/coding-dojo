{
 "cells": [
  {
   "attachments": {},
   "cell_type": "markdown",
   "metadata": {},
   "source": [
    "# **Classification Metrics Exercise 2**\n",
    "\n",
    "_John Andrew Dixon_\n",
    "\n",
    "---\n",
    "\n",
    "**Setup**"
   ]
  },
  {
   "cell_type": "code",
   "execution_count": 42,
   "metadata": {},
   "outputs": [],
   "source": [
    "import pandas as pd\n",
    "from sklearn.dummy import DummyClassifier\n",
    "from sklearn.model_selection import train_test_split\n",
    "from sklearn.metrics import accuracy_score, recall_score, precision_score, roc_auc_score, ConfusionMatrixDisplay"
   ]
  },
  {
   "cell_type": "code",
   "execution_count": 43,
   "metadata": {},
   "outputs": [
    {
     "name": "stdout",
     "output_type": "stream",
     "text": [
      "<class 'pandas.core.frame.DataFrame'>\n",
      "RangeIndex: 4521 entries, 0 to 4520\n",
      "Data columns (total 26 columns):\n",
      " #   Column               Non-Null Count  Dtype\n",
      "---  ------               --------------  -----\n",
      " 0   age                  4521 non-null   int64\n",
      " 1   balance              4521 non-null   int64\n",
      " 2   duration             4521 non-null   int64\n",
      " 3   campaign             4521 non-null   int64\n",
      " 4   pdays                4521 non-null   int64\n",
      " 5   previous             4521 non-null   int64\n",
      " 6   job_blue-collar      4521 non-null   int64\n",
      " 7   job_entrepreneur     4521 non-null   int64\n",
      " 8   job_housemaid        4521 non-null   int64\n",
      " 9   job_management       4521 non-null   int64\n",
      " 10  job_retired          4521 non-null   int64\n",
      " 11  job_self-employed    4521 non-null   int64\n",
      " 12  job_services         4521 non-null   int64\n",
      " 13  job_student          4521 non-null   int64\n",
      " 14  job_technician       4521 non-null   int64\n",
      " 15  job_unemployed       4521 non-null   int64\n",
      " 16  job_unknown          4521 non-null   int64\n",
      " 17  marital_married      4521 non-null   int64\n",
      " 18  marital_single       4521 non-null   int64\n",
      " 19  education_secondary  4521 non-null   int64\n",
      " 20  education_tertiary   4521 non-null   int64\n",
      " 21  education_unknown    4521 non-null   int64\n",
      " 22  default_yes          4521 non-null   int64\n",
      " 23  housing_yes          4521 non-null   int64\n",
      " 24  loan_yes             4521 non-null   int64\n",
      " 25  y_yes                4521 non-null   int64\n",
      "dtypes: int64(26)\n",
      "memory usage: 918.5 KB\n"
     ]
    }
   ],
   "source": [
    "# Remote URL to data\n",
    "url =\"https://docs.google.com/spreadsheets/d/e/2PACX-1vRbVd0UBP5y1-4xkpuktitJoOHDfGvr60jd08TLTH0QWgWndsz-glJpfWjlqYKugxatGg7_mY36J-R4/pub?output=csv\"\n",
    "# Load Data from url\n",
    "df = pd.read_csv(url)\n",
    "# Verify the data loaded\n",
    "df.info()"
   ]
  },
  {
   "attachments": {},
   "cell_type": "markdown",
   "metadata": {},
   "source": [
    "--- \n",
    "\n",
    "## **Tasks**\n",
    "\n",
    "### **Build a DummyClassifier baseline model and a logistic regression model to predict whether or not a client will subscribe.**"
   ]
  },
  {
   "cell_type": "code",
   "execution_count": 44,
   "metadata": {},
   "outputs": [],
   "source": [
    "# Create the feature matrix and target vector\n",
    "X = df.drop(columns=\"y_yes\")\n",
    "y = df[\"y_yes\"]\n",
    "# Do the train test split\n",
    "X_train, X_test, y_train, y_test = train_test_split(X, y, random_state=42)"
   ]
  },
  {
   "cell_type": "code",
   "execution_count": 45,
   "metadata": {},
   "outputs": [],
   "source": [
    "# Instantiate a dummy classifier\n",
    "dummy = DummyClassifier(strategy=\"most_frequent\", random_state=42)\n",
    "# Train the dummy\n",
    "dummy.fit(X_train, y_train)\n",
    "# Generate predictions\n",
    "dummy_train_pred = dummy.predict(X_train)\n",
    "dummy_test_pred = dummy.predict(X_test)"
   ]
  },
  {
   "cell_type": "code",
   "execution_count": 47,
   "metadata": {},
   "outputs": [
    {
     "name": "stdout",
     "output_type": "stream",
     "text": [
      "Training Accuracy: 0.8831858407079646\n",
      "Testing Accuracy: 0.8894783377541998\n",
      "Training Recall: 0.0\n",
      "Testing Recall: 0.0\n",
      "Training Precision: 0.0\n",
      "Testing Precision:\n",
      "Training ROC AUC:\n",
      "Testing ROC AUC:\n"
     ]
    },
    {
     "name": "stderr",
     "output_type": "stream",
     "text": [
      "C:\\Users\\johna\\AppData\\Local\\Packages\\PythonSoftwareFoundation.Python.3.10_qbz5n2kfra8p0\\LocalCache\\local-packages\\Python310\\site-packages\\sklearn\\metrics\\_classification.py:1344: UndefinedMetricWarning: Precision is ill-defined and being set to 0.0 due to no predicted samples. Use `zero_division` parameter to control this behavior.\n",
      "  _warn_prf(average, modifier, msg_start, len(result))\n"
     ]
    }
   ],
   "source": [
    "# Show the metrics\n",
    "print(\"Training Accuracy:\", accuracy_score(y_train, dummy_train_pred))\n",
    "print(\"Testing Accuracy:\", accuracy_score(y_test, dummy_test_pred))\n",
    "print(\"Training Recall:\", recall_score(y_train, dummy_train_pred))\n",
    "print(\"Testing Recall:\", recall_score(y_test, dummy_test_pred))\n",
    "print(\"Training Precision:\", precision_score(y_train, dummy_train_pred))\n",
    "print(\"Testing Precision:\")\n",
    "print(\"Training ROC AUC:\")\n",
    "print(\"Testing ROC AUC:\")"
   ]
  },
  {
   "attachments": {},
   "cell_type": "markdown",
   "metadata": {},
   "source": [
    "1. Build a DummyClassifier baseline model and a logistic regression model to predict whether or not a client will subscribe.\n",
    "\n",
    "2. Use GridSearchCV to tune the logistic regression model's hyperparameters to get the best model possible.\n",
    "\n",
    "3. Then, calculate the following classification metrics for both models:\n",
    "\n",
    "Metrics to calculate:\n",
    "\n",
    "Accuracy\n",
    "Precision\n",
    "Recall\n",
    "ROC AUC\n",
    "Create a Confusion Matrix\n",
    "Additionally, plot the ROC.\n",
    "\n",
    "After completing the task, answer the following questions:\n",
    "\n",
    "Which metric is going to be best to evaluate your classification model for this dataset and why? Hint: think about what each metric means in this specific scenario. What metric is going to help the bank the most?\n",
    "Compare your model's accuracy with the baseline model. Do you see any problems here?\n",
    "What are other ways you could improve this model?"
   ]
  }
 ],
 "metadata": {
  "kernelspec": {
   "display_name": "Python 3",
   "language": "python",
   "name": "python3"
  },
  "language_info": {
   "codemirror_mode": {
    "name": "ipython",
    "version": 3
   },
   "file_extension": ".py",
   "mimetype": "text/x-python",
   "name": "python",
   "nbconvert_exporter": "python",
   "pygments_lexer": "ipython3",
   "version": "3.10.10"
  },
  "orig_nbformat": 4
 },
 "nbformat": 4,
 "nbformat_minor": 2
}
