{
 "cells": [
  {
   "attachments": {},
   "cell_type": "markdown",
   "metadata": {},
   "source": [
    "# **Classification Metrics Exercise 2**\n",
    "\n",
    "_John Andrew Dixon_\n",
    "\n",
    "---\n",
    "\n",
    "**Setup**"
   ]
  },
  {
   "cell_type": "code",
   "execution_count": 2,
   "metadata": {},
   "outputs": [],
   "source": [
    "import pandas as pd\n",
    "from sklearn.dummy import DummyClassifier"
   ]
  },
  {
   "cell_type": "code",
   "execution_count": 3,
   "metadata": {},
   "outputs": [
    {
     "name": "stdout",
     "output_type": "stream",
     "text": [
      "<class 'pandas.core.frame.DataFrame'>\n",
      "RangeIndex: 4521 entries, 0 to 4520\n",
      "Data columns (total 26 columns):\n",
      " #   Column               Non-Null Count  Dtype\n",
      "---  ------               --------------  -----\n",
      " 0   age                  4521 non-null   int64\n",
      " 1   balance              4521 non-null   int64\n",
      " 2   duration             4521 non-null   int64\n",
      " 3   campaign             4521 non-null   int64\n",
      " 4   pdays                4521 non-null   int64\n",
      " 5   previous             4521 non-null   int64\n",
      " 6   job_blue-collar      4521 non-null   int64\n",
      " 7   job_entrepreneur     4521 non-null   int64\n",
      " 8   job_housemaid        4521 non-null   int64\n",
      " 9   job_management       4521 non-null   int64\n",
      " 10  job_retired          4521 non-null   int64\n",
      " 11  job_self-employed    4521 non-null   int64\n",
      " 12  job_services         4521 non-null   int64\n",
      " 13  job_student          4521 non-null   int64\n",
      " 14  job_technician       4521 non-null   int64\n",
      " 15  job_unemployed       4521 non-null   int64\n",
      " 16  job_unknown          4521 non-null   int64\n",
      " 17  marital_married      4521 non-null   int64\n",
      " 18  marital_single       4521 non-null   int64\n",
      " 19  education_secondary  4521 non-null   int64\n",
      " 20  education_tertiary   4521 non-null   int64\n",
      " 21  education_unknown    4521 non-null   int64\n",
      " 22  default_yes          4521 non-null   int64\n",
      " 23  housing_yes          4521 non-null   int64\n",
      " 24  loan_yes             4521 non-null   int64\n",
      " 25  y_yes                4521 non-null   int64\n",
      "dtypes: int64(26)\n",
      "memory usage: 918.5 KB\n"
     ]
    }
   ],
   "source": [
    "# Remote URL to data\n",
    "url =\"https://docs.google.com/spreadsheets/d/e/2PACX-1vRbVd0UBP5y1-4xkpuktitJoOHDfGvr60jd08TLTH0QWgWndsz-glJpfWjlqYKugxatGg7_mY36J-R4/pub?output=csv\"\n",
    "# Load Data from url\n",
    "df = pd.read_csv(url)\n",
    "# Verify the data loaded\n",
    "df.info()"
   ]
  },
  {
   "attachments": {},
   "cell_type": "markdown",
   "metadata": {},
   "source": [
    "--- \n",
    "\n",
    "## **Tasks**\n",
    "\n",
    "### **Build a DummyClassifier baseline model and a logistic regression model to predict whether or not a client will subscribe.**"
   ]
  },
  {
   "cell_type": "code",
   "execution_count": null,
   "metadata": {},
   "outputs": [],
   "source": []
  }
 ],
 "metadata": {
  "kernelspec": {
   "display_name": "Python 3",
   "language": "python",
   "name": "python3"
  },
  "language_info": {
   "codemirror_mode": {
    "name": "ipython",
    "version": 3
   },
   "file_extension": ".py",
   "mimetype": "text/x-python",
   "name": "python",
   "nbconvert_exporter": "python",
   "pygments_lexer": "ipython3",
   "version": "3.10.10"
  },
  "orig_nbformat": 4
 },
 "nbformat": 4,
 "nbformat_minor": 2
}
