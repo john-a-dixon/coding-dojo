{
 "cells": [
  {
   "attachments": {},
   "cell_type": "markdown",
   "metadata": {},
   "source": [
    "# **Logistic Regression, Random Forest, or KNN**\n",
    "\n",
    "_John Andrew Dixon_\n",
    "\n",
    "---\n",
    "\n",
    "**Setup**"
   ]
  },
  {
   "cell_type": "code",
   "execution_count": 411,
   "metadata": {},
   "outputs": [],
   "source": [
    "import pandas as pd\n",
    "from sklearn.model_selection import train_test_split\n",
    "from sklearn.linear_model import LogisticRegression\n",
    "from sklearn.neighbors import KNeighborsClassifier\n",
    "from sklearn.ensemble import RandomForestClassifier\n",
    "from sklearn.preprocessing import StandardScaler\n",
    "from sklearn.pipeline import make_pipeline\n",
    "from sklearn.metrics import accuracy_score, recall_score, precision_score, ConfusionMatrixDisplay\n",
    "from sklearn.model_selection import GridSearchCV\n",
    "from IPython.display import clear_output"
   ]
  },
  {
   "cell_type": "code",
   "execution_count": 397,
   "metadata": {},
   "outputs": [
    {
     "name": "stdout",
     "output_type": "stream",
     "text": [
      "<class 'pandas.core.frame.DataFrame'>\n",
      "RangeIndex: 569 entries, 0 to 568\n",
      "Data columns (total 32 columns):\n",
      " #   Column                   Non-Null Count  Dtype  \n",
      "---  ------                   --------------  -----  \n",
      " 0   id                       569 non-null    int64  \n",
      " 1   diagnosis                569 non-null    object \n",
      " 2   radius_mean              569 non-null    float64\n",
      " 3   texture_mean             569 non-null    float64\n",
      " 4   perimeter_mean           569 non-null    float64\n",
      " 5   area_mean                569 non-null    float64\n",
      " 6   smoothness_mean          569 non-null    float64\n",
      " 7   compactness_mean         569 non-null    float64\n",
      " 8   concavity_mean           569 non-null    float64\n",
      " 9   concave points_mean      569 non-null    float64\n",
      " 10  symmetry_mean            569 non-null    float64\n",
      " 11  fractal_dimension_mean   569 non-null    float64\n",
      " 12  radius_se                569 non-null    float64\n",
      " 13  texture_se               569 non-null    float64\n",
      " 14  perimeter_se             569 non-null    float64\n",
      " 15  area_se                  569 non-null    float64\n",
      " 16  smoothness_se            569 non-null    float64\n",
      " 17  compactness_se           569 non-null    float64\n",
      " 18  concavity_se             569 non-null    float64\n",
      " 19  concave points_se        569 non-null    float64\n",
      " 20  symmetry_se              569 non-null    float64\n",
      " 21  fractal_dimension_se     569 non-null    float64\n",
      " 22  radius_worst             569 non-null    float64\n",
      " 23  texture_worst            569 non-null    float64\n",
      " 24  perimeter_worst          569 non-null    float64\n",
      " 25  area_worst               569 non-null    float64\n",
      " 26  smoothness_worst         569 non-null    float64\n",
      " 27  compactness_worst        569 non-null    float64\n",
      " 28  concavity_worst          569 non-null    float64\n",
      " 29  concave points_worst     569 non-null    float64\n",
      " 30  symmetry_worst           569 non-null    float64\n",
      " 31  fractal_dimension_worst  569 non-null    float64\n",
      "dtypes: float64(30), int64(1), object(1)\n",
      "memory usage: 142.4+ KB\n"
     ]
    }
   ],
   "source": [
    "# Remote url to the dataset\n",
    "url = \"https://docs.google.com/spreadsheets/d/e/2PACX-1vTvYsiM0huszmpSKoHmkPURxSeCGxnCL0dPSMngtc_ij2E3jXgsd7Cqj4c6zxauMqYyEQWIcwo9X1hd/pub?output=csv\"\n",
    "# Load the dataset\n",
    "df = pd.read_csv(url)\n",
    "# Verify it loaded by viewing info\n",
    "df.info()"
   ]
  },
  {
   "cell_type": "code",
   "execution_count": 398,
   "metadata": {},
   "outputs": [],
   "source": [
    "def classifier_metrics(classifier_name, train_pred, train_true, test_pred, test_true, verbose=True):\n",
    "    \"\"\"Function that outputs classifier metrics for a specific classifier\"\"\"\n",
    "    indices = [\"Train Accuracy\", \"Test Accuracy\", \"Train Recall\", \"Test Recall\", \"Train Precision\", \"Test Precision\"]\n",
    "    metrics_df = pd.DataFrame(columns=[classifier_name], index=indices)\n",
    "\n",
    "    metrics_df.iloc[0, 0] = accuracy_score(train_true, train_pred)\n",
    "    metrics_df.iloc[1, 0] = accuracy_score(test_true, test_pred)\n",
    "    metrics_df.iloc[2, 0] = recall_score(train_true, train_pred, zero_division=0)\n",
    "    metrics_df.iloc[3, 0] = recall_score(test_true, test_pred, zero_division=0)\n",
    "    metrics_df.iloc[4, 0] = precision_score(train_true, train_pred, zero_division=0)\n",
    "    metrics_df.iloc[5, 0] = precision_score(test_true, test_pred, zero_division=0)\n",
    "    if verbose:\n",
    "        ConfusionMatrixDisplay.from_predictions(\n",
    "            test_true,\n",
    "            test_pred,\n",
    "            cmap=\"Reds\"\n",
    "        );\n",
    "    return metrics_df"
   ]
  },
  {
   "attachments": {},
   "cell_type": "markdown",
   "metadata": {},
   "source": [
    "---\n",
    "\n",
    "## **Tasks**\n",
    "\n",
    "### **Logistic Regression**\n",
    "\n",
    "#### Default\n",
    "\n",
    "For this dataset, we are dealing with malignant tumor diagnosis. A positive means the patient is diagnosed with a malignant, cancerous tumor. A negative means the patient is diagnoses with a benign, non-cancerous tumor."
   ]
  },
  {
   "cell_type": "code",
   "execution_count": 399,
   "metadata": {},
   "outputs": [],
   "source": [
    "# DataFrame of models tried\n",
    "models = pd.DataFrame(index=[\"Train Accuracy\", \"Test Accuracy\", \"Train Recall\", \"Test Recall\", \"Train Precision\", \"Test Precision\"])"
   ]
  },
  {
   "cell_type": "code",
   "execution_count": 400,
   "metadata": {},
   "outputs": [],
   "source": [
    "# Create the feature matrix\n",
    "X = df.drop(columns=[\"id\", \"diagnosis\"])\n",
    "# Create the target vector\n",
    "y = df[\"diagnosis\"].replace({\"B\": 0, \"M\": 1})\n",
    "# Create the train test split\n",
    "X_train, X_test, y_train, y_test = train_test_split(X, y, random_state=42)"
   ]
  },
  {
   "cell_type": "code",
   "execution_count": 401,
   "metadata": {},
   "outputs": [],
   "source": [
    "# Create a standard scaler\n",
    "scaler = StandardScaler()\n",
    "# Create a logistic regression model\n",
    "lor = LogisticRegression(random_state=42)\n",
    "# Create a logistic regression pipeline\n",
    "lor_pipeline = make_pipeline(scaler, lor)"
   ]
  },
  {
   "cell_type": "code",
   "execution_count": 402,
   "metadata": {},
   "outputs": [
    {
     "data": {
      "text/html": [
       "<div>\n",
       "<style scoped>\n",
       "    .dataframe tbody tr th:only-of-type {\n",
       "        vertical-align: middle;\n",
       "    }\n",
       "\n",
       "    .dataframe tbody tr th {\n",
       "        vertical-align: top;\n",
       "    }\n",
       "\n",
       "    .dataframe thead th {\n",
       "        text-align: right;\n",
       "    }\n",
       "</style>\n",
       "<table border=\"1\" class=\"dataframe\">\n",
       "  <thead>\n",
       "    <tr style=\"text-align: right;\">\n",
       "      <th></th>\n",
       "      <th>LogisticRegression Default</th>\n",
       "    </tr>\n",
       "  </thead>\n",
       "  <tbody>\n",
       "    <tr>\n",
       "      <th>Train Accuracy</th>\n",
       "      <td>0.985915</td>\n",
       "    </tr>\n",
       "    <tr>\n",
       "      <th>Test Accuracy</th>\n",
       "      <td>0.979021</td>\n",
       "    </tr>\n",
       "    <tr>\n",
       "      <th>Train Recall</th>\n",
       "      <td>0.974684</td>\n",
       "    </tr>\n",
       "    <tr>\n",
       "      <th>Test Recall</th>\n",
       "      <td>0.981481</td>\n",
       "    </tr>\n",
       "    <tr>\n",
       "      <th>Train Precision</th>\n",
       "      <td>0.987179</td>\n",
       "    </tr>\n",
       "    <tr>\n",
       "      <th>Test Precision</th>\n",
       "      <td>0.963636</td>\n",
       "    </tr>\n",
       "  </tbody>\n",
       "</table>\n",
       "</div>"
      ],
      "text/plain": [
       "                LogisticRegression Default\n",
       "Train Accuracy                    0.985915\n",
       "Test Accuracy                     0.979021\n",
       "Train Recall                      0.974684\n",
       "Test Recall                       0.981481\n",
       "Train Precision                   0.987179\n",
       "Test Precision                    0.963636"
      ]
     },
     "execution_count": 402,
     "metadata": {},
     "output_type": "execute_result"
    },
    {
     "data": {
      "image/png": "[encoded data removed]",
      "text/plain": [
       "<Figure size 640x480 with 2 Axes>"
      ]
     },
     "metadata": {},
     "output_type": "display_data"
    }
   ],
   "source": [
    "# Fit log reg pipe to training data\n",
    "lor_pipeline.fit(X_train, y_train)\n",
    "# Get predictions with log reg pipe\n",
    "train_pred = lor_pipeline.predict(X_train)\n",
    "test_pred = lor_pipeline.predict(X_test)\n",
    "models = pd.concat([models, classifier_metrics(\"LogisticRegression Default\", train_pred, y_train, test_pred, y_test)], axis=1)\n",
    "models"
   ]
  },
  {
   "attachments": {},
   "cell_type": "markdown",
   "metadata": {},
   "source": [
    "#### **Tuning L1 _and_ L2**"
   ]
  },
  {
   "cell_type": "code",
   "execution_count": 403,
   "metadata": {},
   "outputs": [],
   "source": [
    "# Create hyperparameter values to iterate through\n",
    "c_values = [0.0001, 0.001, 0.01, 0.1, 1, 10, 100, 1000]\n",
    "l1_ratios = [0.05, 0.1, 0.15, 0.2, 0.25, 0.3, 0.35, 0.4, 0.45, 0.5, 0.55, 0.6, 0.65, 0.7, 0.75, 0.8, 0.85, 0.9, 0.95]\n",
    "# Create a DataFrame to add all possible values\n",
    "cols = [\"Train Accuracy\", \"Test Accuracy\", \"Train Recall\", \"Test Recall\", \"Train Precision\", \"Test Precision\"]\n",
    "log_reg_tunings = pd.DataFrame(columns=cols)"
   ]
  },
  {
   "cell_type": "code",
   "execution_count": 404,
   "metadata": {},
   "outputs": [],
   "source": [
    "# Loop through the hyperparameters\n",
    "for c in c_values:\n",
    "    for ratio in l1_ratios:\n",
    "        # Instantiate the Logistic Regression model, add to a pipeline and then fit the pipeline to a the training data\n",
    "        log_reg = LogisticRegression(random_state=42, \n",
    "                                     penalty=\"elasticnet\", \n",
    "                                     solver=\"saga\", \n",
    "                                     max_iter=10000, \n",
    "                                     l1_ratio=ratio, \n",
    "                                     C=c,\n",
    "                                     n_jobs=-1)\n",
    "        log_reg_pipe = make_pipeline(scaler, log_reg)\n",
    "        log_reg_pipe.fit(X_train, y_train)\n",
    "\n",
    "        # Get predictions based on this specific tuning\n",
    "        train_pred = log_reg_pipe.predict(X_train)\n",
    "        test_pred = log_reg_pipe.predict(X_test)\n",
    "\n",
    "        # Get the metrics and store into a temp dataframe\n",
    "        m = classifier_metrics(f\"c:{c}/ratio:{ratio}\", train_pred, y_train, test_pred, y_test, verbose=False).T\n",
    "        log_reg_tunings = pd.concat([log_reg_tunings, m])"
   ]
  },
  {
   "cell_type": "code",
   "execution_count": 405,
   "metadata": {},
   "outputs": [
    {
     "data": {
      "text/html": [
       "<div>\n",
       "<style scoped>\n",
       "    .dataframe tbody tr th:only-of-type {\n",
       "        vertical-align: middle;\n",
       "    }\n",
       "\n",
       "    .dataframe tbody tr th {\n",
       "        vertical-align: top;\n",
       "    }\n",
       "\n",
       "    .dataframe thead th {\n",
       "        text-align: right;\n",
       "    }\n",
       "</style>\n",
       "<table border=\"1\" class=\"dataframe\">\n",
       "  <thead>\n",
       "    <tr style=\"text-align: right;\">\n",
       "      <th></th>\n",
       "      <th>LogisticRegression Default</th>\n",
       "      <th>LogisticRegression Best</th>\n",
       "    </tr>\n",
       "  </thead>\n",
       "  <tbody>\n",
       "    <tr>\n",
       "      <th>Train Accuracy</th>\n",
       "      <td>0.985915</td>\n",
       "      <td>0.985915</td>\n",
       "    </tr>\n",
       "    <tr>\n",
       "      <th>Test Accuracy</th>\n",
       "      <td>0.979021</td>\n",
       "      <td>0.979021</td>\n",
       "    </tr>\n",
       "    <tr>\n",
       "      <th>Train Recall</th>\n",
       "      <td>0.974684</td>\n",
       "      <td>0.974684</td>\n",
       "    </tr>\n",
       "    <tr>\n",
       "      <th>Test Recall</th>\n",
       "      <td>0.981481</td>\n",
       "      <td>0.981481</td>\n",
       "    </tr>\n",
       "    <tr>\n",
       "      <th>Train Precision</th>\n",
       "      <td>0.987179</td>\n",
       "      <td>0.987179</td>\n",
       "    </tr>\n",
       "    <tr>\n",
       "      <th>Test Precision</th>\n",
       "      <td>0.963636</td>\n",
       "      <td>0.963636</td>\n",
       "    </tr>\n",
       "  </tbody>\n",
       "</table>\n",
       "</div>"
      ],
      "text/plain": [
       "                LogisticRegression Default LogisticRegression Best\n",
       "Train Accuracy                    0.985915                0.985915\n",
       "Test Accuracy                     0.979021                0.979021\n",
       "Train Recall                      0.974684                0.974684\n",
       "Test Recall                       0.981481                0.981481\n",
       "Train Precision                   0.987179                0.987179\n",
       "Test Precision                    0.963636                0.963636"
      ]
     },
     "execution_count": 405,
     "metadata": {},
     "output_type": "execute_result"
    }
   ],
   "source": [
    "log_reg_best = log_reg_tunings.sort_values(by=[\"Test Recall\", \"Test Precision\"], ascending=False).head(1).T\n",
    "log_reg_best = log_reg_best.set_axis(labels=[\"LogisticRegression Best\"], axis=\"columns\")\n",
    "models = pd.concat([models, log_reg_best], axis=\"columns\")\n",
    "models"
   ]
  },
  {
   "attachments": {},
   "cell_type": "markdown",
   "metadata": {},
   "source": [
    "### **KNN**\n",
    "\n",
    "#### Default"
   ]
  },
  {
   "cell_type": "code",
   "execution_count": 406,
   "metadata": {},
   "outputs": [],
   "source": [
    "# 1. Instantiate a knn classifier\n",
    "# 2. Put it in a pipeline with a scaler\n",
    "# 3. Fit the pipe to the training data\n",
    "knn_classifier = KNeighborsClassifier(n_jobs=-1)\n",
    "knn_pipe = make_pipeline(scaler, knn_classifier)\n",
    "knn_pipe.fit(X_train, y_train)\n",
    "# 1. Get predictions on the X-training data\n",
    "# 2. Get predictions on the X_test data\n",
    "train_pred = knn_pipe.predict(X_train)\n",
    "test_pred = knn_pipe.predict(X_test)"
   ]
  },
  {
   "cell_type": "code",
   "execution_count": 407,
   "metadata": {},
   "outputs": [
    {
     "data": {
      "text/html": [
       "<div>\n",
       "<style scoped>\n",
       "    .dataframe tbody tr th:only-of-type {\n",
       "        vertical-align: middle;\n",
       "    }\n",
       "\n",
       "    .dataframe tbody tr th {\n",
       "        vertical-align: top;\n",
       "    }\n",
       "\n",
       "    .dataframe thead th {\n",
       "        text-align: right;\n",
       "    }\n",
       "</style>\n",
       "<table border=\"1\" class=\"dataframe\">\n",
       "  <thead>\n",
       "    <tr style=\"text-align: right;\">\n",
       "      <th></th>\n",
       "      <th>LogisticRegression Default</th>\n",
       "      <th>LogisticRegression Best</th>\n",
       "      <th>KNeighborsClassifier Default</th>\n",
       "    </tr>\n",
       "  </thead>\n",
       "  <tbody>\n",
       "    <tr>\n",
       "      <th>Train Accuracy</th>\n",
       "      <td>0.985915</td>\n",
       "      <td>0.985915</td>\n",
       "      <td>0.978873</td>\n",
       "    </tr>\n",
       "    <tr>\n",
       "      <th>Test Accuracy</th>\n",
       "      <td>0.979021</td>\n",
       "      <td>0.979021</td>\n",
       "      <td>0.958042</td>\n",
       "    </tr>\n",
       "    <tr>\n",
       "      <th>Train Recall</th>\n",
       "      <td>0.974684</td>\n",
       "      <td>0.974684</td>\n",
       "      <td>0.943038</td>\n",
       "    </tr>\n",
       "    <tr>\n",
       "      <th>Test Recall</th>\n",
       "      <td>0.981481</td>\n",
       "      <td>0.981481</td>\n",
       "      <td>0.944444</td>\n",
       "    </tr>\n",
       "    <tr>\n",
       "      <th>Train Precision</th>\n",
       "      <td>0.987179</td>\n",
       "      <td>0.987179</td>\n",
       "      <td>1.0</td>\n",
       "    </tr>\n",
       "    <tr>\n",
       "      <th>Test Precision</th>\n",
       "      <td>0.963636</td>\n",
       "      <td>0.963636</td>\n",
       "      <td>0.944444</td>\n",
       "    </tr>\n",
       "  </tbody>\n",
       "</table>\n",
       "</div>"
      ],
      "text/plain": [
       "                LogisticRegression Default LogisticRegression Best  \\\n",
       "Train Accuracy                    0.985915                0.985915   \n",
       "Test Accuracy                     0.979021                0.979021   \n",
       "Train Recall                      0.974684                0.974684   \n",
       "Test Recall                       0.981481                0.981481   \n",
       "Train Precision                   0.987179                0.987179   \n",
       "Test Precision                    0.963636                0.963636   \n",
       "\n",
       "                KNeighborsClassifier Default  \n",
       "Train Accuracy                      0.978873  \n",
       "Test Accuracy                       0.958042  \n",
       "Train Recall                        0.943038  \n",
       "Test Recall                         0.944444  \n",
       "Train Precision                          1.0  \n",
       "Test Precision                      0.944444  "
      ]
     },
     "execution_count": 407,
     "metadata": {},
     "output_type": "execute_result"
    },
    {
     "data": {
      "image/png": "[encoded data removed]",
      "text/plain": [
       "<Figure size 640x480 with 2 Axes>"
      ]
     },
     "metadata": {},
     "output_type": "display_data"
    }
   ],
   "source": [
    "base_knn_metrics = classifier_metrics(\"KNeighborsClassifier Default\", train_pred, y_train, test_pred, y_test)\n",
    "models = pd.concat([models, base_knn_metrics], axis=1)\n",
    "models"
   ]
  },
  {
   "attachments": {},
   "cell_type": "markdown",
   "metadata": {},
   "source": [
    "#### Tuning"
   ]
  },
  {
   "cell_type": "code",
   "execution_count": 408,
   "metadata": {},
   "outputs": [
    {
     "data": {
      "text/plain": [
       "{'memory': None,\n",
       " 'steps': [('standardscaler', StandardScaler()),\n",
       "  ('kneighborsclassifier', KNeighborsClassifier(n_jobs=-1))],\n",
       " 'verbose': False,\n",
       " 'standardscaler': StandardScaler(),\n",
       " 'kneighborsclassifier': KNeighborsClassifier(n_jobs=-1),\n",
       " 'standardscaler__copy': True,\n",
       " 'standardscaler__with_mean': True,\n",
       " 'standardscaler__with_std': True,\n",
       " 'kneighborsclassifier__algorithm': 'auto',\n",
       " 'kneighborsclassifier__leaf_size': 30,\n",
       " 'kneighborsclassifier__metric': 'minkowski',\n",
       " 'kneighborsclassifier__metric_params': None,\n",
       " 'kneighborsclassifier__n_jobs': -1,\n",
       " 'kneighborsclassifier__n_neighbors': 5,\n",
       " 'kneighborsclassifier__p': 2,\n",
       " 'kneighborsclassifier__weights': 'uniform'}"
      ]
     },
     "execution_count": 408,
     "metadata": {},
     "output_type": "execute_result"
    }
   ],
   "source": [
    "# 1. Instantiate a KNN_pipe\n",
    "# 2. See params\n",
    "knn_pipe = make_pipeline(scaler, KNeighborsClassifier(n_jobs=-1))\n",
    "knn_pipe.get_params()"
   ]
  },
  {
   "cell_type": "code",
   "execution_count": 409,
   "metadata": {},
   "outputs": [
    {
     "data": {
      "text/plain": [
       "{'kneighborsclassifier__n_neighbors': 3,\n",
       " 'kneighborsclassifier__p': 1,\n",
       " 'kneighborsclassifier__weights': 'uniform'}"
      ]
     },
     "execution_count": 409,
     "metadata": {},
     "output_type": "execute_result"
    }
   ],
   "source": [
    "# Create a param grid\n",
    "param_grid = {\n",
    "    \"kneighborsclassifier__n_neighbors\": [number for number in range(1, 51)],\n",
    "    \"kneighborsclassifier__weights\": [\"uniform\", \"distance\"],\n",
    "    \"kneighborsclassifier__p\": [1, 2, 3, 4, 5]\n",
    "}\n",
    "\n",
    "# 1. Instantiate a GridSearch object\n",
    "# 2. Fit the GridSearch Object to the training data\n",
    "# 3. Get the best params out to see what they are\n",
    "knn_pipe_grid = GridSearchCV(knn_pipe, param_grid, scoring=(\"recall\", \"precision\"), refit=\"recall\")\n",
    "knn_pipe_grid.fit(X_train, y_train)\n",
    "knn_pipe_grid.best_params_\n"
   ]
  },
  {
   "cell_type": "code",
   "execution_count": 410,
   "metadata": {},
   "outputs": [
    {
     "data": {
      "text/html": [
       "<div>\n",
       "<style scoped>\n",
       "    .dataframe tbody tr th:only-of-type {\n",
       "        vertical-align: middle;\n",
       "    }\n",
       "\n",
       "    .dataframe tbody tr th {\n",
       "        vertical-align: top;\n",
       "    }\n",
       "\n",
       "    .dataframe thead th {\n",
       "        text-align: right;\n",
       "    }\n",
       "</style>\n",
       "<table border=\"1\" class=\"dataframe\">\n",
       "  <thead>\n",
       "    <tr style=\"text-align: right;\">\n",
       "      <th></th>\n",
       "      <th>LogisticRegression Default</th>\n",
       "      <th>LogisticRegression Best</th>\n",
       "      <th>KNeighborsClassifier Default</th>\n",
       "      <th>KNeighborsClassifier Best</th>\n",
       "    </tr>\n",
       "  </thead>\n",
       "  <tbody>\n",
       "    <tr>\n",
       "      <th>Train Accuracy</th>\n",
       "      <td>0.985915</td>\n",
       "      <td>0.985915</td>\n",
       "      <td>0.978873</td>\n",
       "      <td>0.99061</td>\n",
       "    </tr>\n",
       "    <tr>\n",
       "      <th>Test Accuracy</th>\n",
       "      <td>0.979021</td>\n",
       "      <td>0.979021</td>\n",
       "      <td>0.958042</td>\n",
       "      <td>0.972028</td>\n",
       "    </tr>\n",
       "    <tr>\n",
       "      <th>Train Recall</th>\n",
       "      <td>0.974684</td>\n",
       "      <td>0.974684</td>\n",
       "      <td>0.943038</td>\n",
       "      <td>0.974684</td>\n",
       "    </tr>\n",
       "    <tr>\n",
       "      <th>Test Recall</th>\n",
       "      <td>0.981481</td>\n",
       "      <td>0.981481</td>\n",
       "      <td>0.944444</td>\n",
       "      <td>0.962963</td>\n",
       "    </tr>\n",
       "    <tr>\n",
       "      <th>Train Precision</th>\n",
       "      <td>0.987179</td>\n",
       "      <td>0.987179</td>\n",
       "      <td>1.0</td>\n",
       "      <td>1.0</td>\n",
       "    </tr>\n",
       "    <tr>\n",
       "      <th>Test Precision</th>\n",
       "      <td>0.963636</td>\n",
       "      <td>0.963636</td>\n",
       "      <td>0.944444</td>\n",
       "      <td>0.962963</td>\n",
       "    </tr>\n",
       "  </tbody>\n",
       "</table>\n",
       "</div>"
      ],
      "text/plain": [
       "                LogisticRegression Default LogisticRegression Best  \\\n",
       "Train Accuracy                    0.985915                0.985915   \n",
       "Test Accuracy                     0.979021                0.979021   \n",
       "Train Recall                      0.974684                0.974684   \n",
       "Test Recall                       0.981481                0.981481   \n",
       "Train Precision                   0.987179                0.987179   \n",
       "Test Precision                    0.963636                0.963636   \n",
       "\n",
       "                KNeighborsClassifier Default KNeighborsClassifier Best  \n",
       "Train Accuracy                      0.978873                   0.99061  \n",
       "Test Accuracy                       0.958042                  0.972028  \n",
       "Train Recall                        0.943038                  0.974684  \n",
       "Test Recall                         0.944444                  0.962963  \n",
       "Train Precision                          1.0                       1.0  \n",
       "Test Precision                      0.944444                  0.962963  "
      ]
     },
     "execution_count": 410,
     "metadata": {},
     "output_type": "execute_result"
    },
    {
     "data": {
      "image/png": "[encoded data removed]",
      "text/plain": [
       "<Figure size 640x480 with 2 Axes>"
      ]
     },
     "metadata": {},
     "output_type": "display_data"
    }
   ],
   "source": [
    "# 1. Grab the best estimator/mode from the GridSearch object\n",
    "# 2. Use it to predict with train and test data\n",
    "best_knn = knn_pipe_grid.best_estimator_\n",
    "train_pred = best_knn.predict(X_train)\n",
    "test_pred = best_knn.predict(X_test)\n",
    "# 1. Get the metrics of the best estimator\n",
    "# 2. Add it to the models dataframe for comparison\n",
    "best_knn_metrics = classifier_metrics(\"KNeighborsClassifier Best\", train_pred, y_train, test_pred, y_test)\n",
    "models = pd.concat([models, best_knn_metrics], axis=1)\n",
    "models"
   ]
  },
  {
   "attachments": {},
   "cell_type": "markdown",
   "metadata": {},
   "source": [
    "### **Random Forest**\n",
    "\n",
    "#### Default"
   ]
  },
  {
   "cell_type": "code",
   "execution_count": 481,
   "metadata": {},
   "outputs": [],
   "source": [
    "# 1. Create a Random Forest Classifier\n",
    "# 2. Fit the forest to the training data\n",
    "random_forest = RandomForestClassifier(random_state=42, n_jobs=-1)\n",
    "random_forest.fit(X_train, y_train)\n",
    "# 1. Get training predictions from the forest\n",
    "# 2. Get testing predictions from the forest\n",
    "train_pred = random_forest.predict(X_train)\n",
    "test_pred = random_forest.predict(X_test)"
   ]
  },
  {
   "cell_type": "code",
   "execution_count": 482,
   "metadata": {},
   "outputs": [
    {
     "data": {
      "text/html": [
       "<div>\n",
       "<style scoped>\n",
       "    .dataframe tbody tr th:only-of-type {\n",
       "        vertical-align: middle;\n",
       "    }\n",
       "\n",
       "    .dataframe tbody tr th {\n",
       "        vertical-align: top;\n",
       "    }\n",
       "\n",
       "    .dataframe thead th {\n",
       "        text-align: right;\n",
       "    }\n",
       "</style>\n",
       "<table border=\"1\" class=\"dataframe\">\n",
       "  <thead>\n",
       "    <tr style=\"text-align: right;\">\n",
       "      <th></th>\n",
       "      <th>LogisticRegression Default</th>\n",
       "      <th>LogisticRegression Best</th>\n",
       "      <th>KNeighborsClassifier Default</th>\n",
       "      <th>KNeighborsClassifier Best</th>\n",
       "      <th>RandomForestClassifier Base</th>\n",
       "    </tr>\n",
       "  </thead>\n",
       "  <tbody>\n",
       "    <tr>\n",
       "      <th>Train Accuracy</th>\n",
       "      <td>0.985915</td>\n",
       "      <td>0.985915</td>\n",
       "      <td>0.978873</td>\n",
       "      <td>0.99061</td>\n",
       "      <td>1.0</td>\n",
       "    </tr>\n",
       "    <tr>\n",
       "      <th>Test Accuracy</th>\n",
       "      <td>0.979021</td>\n",
       "      <td>0.979021</td>\n",
       "      <td>0.958042</td>\n",
       "      <td>0.972028</td>\n",
       "      <td>0.965035</td>\n",
       "    </tr>\n",
       "    <tr>\n",
       "      <th>Train Recall</th>\n",
       "      <td>0.974684</td>\n",
       "      <td>0.974684</td>\n",
       "      <td>0.943038</td>\n",
       "      <td>0.974684</td>\n",
       "      <td>1.0</td>\n",
       "    </tr>\n",
       "    <tr>\n",
       "      <th>Test Recall</th>\n",
       "      <td>0.981481</td>\n",
       "      <td>0.981481</td>\n",
       "      <td>0.944444</td>\n",
       "      <td>0.962963</td>\n",
       "      <td>0.944444</td>\n",
       "    </tr>\n",
       "    <tr>\n",
       "      <th>Train Precision</th>\n",
       "      <td>0.987179</td>\n",
       "      <td>0.987179</td>\n",
       "      <td>1.0</td>\n",
       "      <td>1.0</td>\n",
       "      <td>1.0</td>\n",
       "    </tr>\n",
       "    <tr>\n",
       "      <th>Test Precision</th>\n",
       "      <td>0.963636</td>\n",
       "      <td>0.963636</td>\n",
       "      <td>0.944444</td>\n",
       "      <td>0.962963</td>\n",
       "      <td>0.962264</td>\n",
       "    </tr>\n",
       "  </tbody>\n",
       "</table>\n",
       "</div>"
      ],
      "text/plain": [
       "                LogisticRegression Default LogisticRegression Best  \\\n",
       "Train Accuracy                    0.985915                0.985915   \n",
       "Test Accuracy                     0.979021                0.979021   \n",
       "Train Recall                      0.974684                0.974684   \n",
       "Test Recall                       0.981481                0.981481   \n",
       "Train Precision                   0.987179                0.987179   \n",
       "Test Precision                    0.963636                0.963636   \n",
       "\n",
       "                KNeighborsClassifier Default KNeighborsClassifier Best  \\\n",
       "Train Accuracy                      0.978873                   0.99061   \n",
       "Test Accuracy                       0.958042                  0.972028   \n",
       "Train Recall                        0.943038                  0.974684   \n",
       "Test Recall                         0.944444                  0.962963   \n",
       "Train Precision                          1.0                       1.0   \n",
       "Test Precision                      0.944444                  0.962963   \n",
       "\n",
       "                RandomForestClassifier Base  \n",
       "Train Accuracy                          1.0  \n",
       "Test Accuracy                      0.965035  \n",
       "Train Recall                            1.0  \n",
       "Test Recall                        0.944444  \n",
       "Train Precision                         1.0  \n",
       "Test Precision                     0.962264  "
      ]
     },
     "execution_count": 482,
     "metadata": {},
     "output_type": "execute_result"
    },
    {
     "data": {
      "image/png": "[encoded data removed]",
      "text/plain": [
       "<Figure size 640x480 with 2 Axes>"
      ]
     },
     "metadata": {},
     "output_type": "display_data"
    }
   ],
   "source": [
    "base_random_forest_metrics = classifier_metrics(\"RandomForestClassifier Base\", train_pred, y_train, test_pred, y_test)\n",
    "models = pd.concat([models, base_random_forest_metrics], axis=1)\n",
    "models"
   ]
  },
  {
   "attachments": {},
   "cell_type": "markdown",
   "metadata": {},
   "source": [
    "#### Tuning"
   ]
  }
 ],
 "metadata": {
  "kernelspec": {
   "display_name": "Python 3",
   "language": "python",
   "name": "python3"
  },
  "language_info": {
   "codemirror_mode": {
    "name": "ipython",
    "version": 3
   },
   "file_extension": ".py",
   "mimetype": "text/x-python",
   "name": "python",
   "nbconvert_exporter": "python",
   "pygments_lexer": "ipython3",
   "version": "3.10.10"
  },
  "orig_nbformat": 4
 },
 "nbformat": 4,
 "nbformat_minor": 2
}
