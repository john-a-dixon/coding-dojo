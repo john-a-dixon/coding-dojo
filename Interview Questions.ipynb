{
 "cells": [
  {
   "attachments": {},
   "cell_type": "markdown",
   "metadata": {},
   "source": [
    "# **Week 1**"
   ]
  },
  {
   "attachments": {},
   "cell_type": "markdown",
   "metadata": {},
   "source": [
    "_**What is the difference between a list and a tuple in Python?**_\n",
    "- A list is mutable whereas a tuple is not\n",
    "- A list uses brackets when being created whereas a tuple uses parenthesis\n",
    "- A tuple is is slightly more efficient than a list\n",
    "\n",
    "_**Is indentation required in Python?**_\n",
    "- Yes, indentation is required in Python. Without indentation blocks of code, like loops and functions, wouldn’t be valid.\n",
    "\n",
    "_**What is a comment in Python and how would you write one?**_\n",
    "- A comment is a line within the code that is ignored by the Python interpreter. \n",
    "- To write a comment put a # symbol in front of any code within a Python file.\n",
    "\n",
    "_**What is a dictionary in Python?**_\n",
    "- A dictionary is an unordered structure or collection of data in Python. \n",
    "- Its elements are key-value pairs where the key is immutable and the value is mutable. \n",
    "- The value can be anything whereas the key must be a mutable data type."
   ]
  },
  {
   "attachments": {},
   "cell_type": "markdown",
   "metadata": {},
   "source": [
    "_**How would you convert a string to all uppercase letters?**_"
   ]
  },
  {
   "cell_type": "code",
   "execution_count": 52,
   "metadata": {},
   "outputs": [
    {
     "data": {
      "text/plain": [
       "'MAKEUPPER'"
      ]
     },
     "execution_count": 52,
     "metadata": {},
     "output_type": "execute_result"
    }
   ],
   "source": [
    "str.upper('makeupper')"
   ]
  },
  {
   "cell_type": "code",
   "execution_count": 53,
   "metadata": {},
   "outputs": [
    {
     "data": {
      "text/plain": [
       "'MAKEUPPER'"
      ]
     },
     "execution_count": 53,
     "metadata": {},
     "output_type": "execute_result"
    }
   ],
   "source": [
    "'makeupper'.upper()"
   ]
  },
  {
   "attachments": {},
   "cell_type": "markdown",
   "metadata": {},
   "source": [
    "_**What are negative indices and why are they used?**_\n",
    "- Negative indices are ways to index a list from its end or back. \n",
    "- They’re used for when the back of a list needs to be easily accessed.\n",
    "\n",
    "_**How would you reference a specific item within a Python dictionary?**_"
   ]
  },
  {
   "cell_type": "code",
   "execution_count": 54,
   "metadata": {},
   "outputs": [
    {
     "data": {
      "text/plain": [
       "'value'"
      ]
     },
     "execution_count": 54,
     "metadata": {},
     "output_type": "execute_result"
    }
   ],
   "source": [
    "a_dict = {'key': 'value'}\n",
    "a_dict['key']"
   ]
  },
  {
   "attachments": {},
   "cell_type": "markdown",
   "metadata": {},
   "source": [
    "_**What does the .pop() method do to a list?**_\n",
    "- The pop method removes an element in a list. \n",
    "- If an index is not provided then by default the pop method removes the last element. \n",
    "- No matter what, it returns the value of the removed element.\n",
    "\n",
    "_**Given a list, how would you access the last 3 items in that list?**_"
   ]
  },
  {
   "cell_type": "code",
   "execution_count": 55,
   "metadata": {},
   "outputs": [
    {
     "data": {
      "text/plain": [
       "[3, 4, 5]"
      ]
     },
     "execution_count": 55,
     "metadata": {},
     "output_type": "execute_result"
    }
   ],
   "source": [
    "a_list = [1, 2, 3, 4, 5]\n",
    "a_list[-3:]"
   ]
  },
  {
   "attachments": {},
   "cell_type": "markdown",
   "metadata": {},
   "source": [
    "_**What is the difference between a Pandas Series and a Pandas DataFrame?**_\n",
    "- A Pandas Series is one dimensional whereas a Pandas DataFrame is two dimensional.\n",
    "- A Pandas Series can be equivalent to a single row or column in a Pandas DataFrame, depending on whether or not the DataFrame was transposed.\n",
    "\n"
   ]
  },
  {
   "attachments": {},
   "cell_type": "markdown",
   "metadata": {},
   "source": [
    "# **Week 2**"
   ]
  },
  {
   "attachments": {},
   "cell_type": "markdown",
   "metadata": {},
   "source": [
    "_**What is a Pandas DataFrame?**_\n",
    "- A Pandas DataFrame is a 2D data structure meant to emulate what we would think of as a table with labeled rows and columns.\n",
    "- It holds tabular data and is easily human readable.\n",
    "\n",
    "\n",
    "\n",
    "_**What is a Pandas Series?**_\n",
    "- A Pandas Series is a 1D data structure meant to emulate what we would think of as a column within a table of Data.\n",
    "- It is also labeled and human readable\n",
    "\n",
    "_**How would you make an empty DataFrame in Python?**_\n"
   ]
  },
  {
   "cell_type": "code",
   "execution_count": 56,
   "metadata": {},
   "outputs": [
    {
     "data": {
      "text/html": [
       "<div>\n",
       "<style scoped>\n",
       "    .dataframe tbody tr th:only-of-type {\n",
       "        vertical-align: middle;\n",
       "    }\n",
       "\n",
       "    .dataframe tbody tr th {\n",
       "        vertical-align: top;\n",
       "    }\n",
       "\n",
       "    .dataframe thead th {\n",
       "        text-align: right;\n",
       "    }\n",
       "</style>\n",
       "<table border=\"1\" class=\"dataframe\">\n",
       "  <thead>\n",
       "    <tr style=\"text-align: right;\">\n",
       "      <th></th>\n",
       "    </tr>\n",
       "  </thead>\n",
       "  <tbody>\n",
       "  </tbody>\n",
       "</table>\n",
       "</div>"
      ],
      "text/plain": [
       "Empty DataFrame\n",
       "Columns: []\n",
       "Index: []"
      ]
     },
     "execution_count": 56,
     "metadata": {},
     "output_type": "execute_result"
    }
   ],
   "source": [
    "import pandas as pd\n",
    "import numpy as np\n",
    "\n",
    "pd.DataFrame()\n",
    "empty = pd.DataFrame()\n",
    "empty"
   ]
  },
  {
   "attachments": {},
   "cell_type": "markdown",
   "metadata": {},
   "source": [
    "_**In Pandas, how would you find the number of unique values in a column?**_"
   ]
  },
  {
   "cell_type": "code",
   "execution_count": 57,
   "metadata": {},
   "outputs": [
    {
     "data": {
      "text/plain": [
       "5"
      ]
     },
     "execution_count": 57,
     "metadata": {},
     "output_type": "execute_result"
    }
   ],
   "source": [
    "empty = pd.DataFrame({'A': [1, 1, 2, 2, 3, 3, 4, 4, 5, 5]})\n",
    "\n",
    "empty['A'].nunique()"
   ]
  },
  {
   "cell_type": "code",
   "execution_count": 58,
   "metadata": {},
   "outputs": [
    {
     "data": {
      "text/plain": [
       "5"
      ]
     },
     "execution_count": 58,
     "metadata": {},
     "output_type": "execute_result"
    }
   ],
   "source": [
    "len(empty['A'].value_counts())"
   ]
  },
  {
   "cell_type": "code",
   "execution_count": 59,
   "metadata": {},
   "outputs": [
    {
     "data": {
      "text/plain": [
       "5"
      ]
     },
     "execution_count": 59,
     "metadata": {},
     "output_type": "execute_result"
    }
   ],
   "source": [
    "len(empty.value_counts(empty['A']))"
   ]
  },
  {
   "cell_type": "code",
   "execution_count": 60,
   "metadata": {},
   "outputs": [
    {
     "data": {
      "text/plain": [
       "5"
      ]
     },
     "execution_count": 60,
     "metadata": {},
     "output_type": "execute_result"
    }
   ],
   "source": [
    "len(pd.unique(empty['A']))"
   ]
  },
  {
   "attachments": {},
   "cell_type": "markdown",
   "metadata": {},
   "source": [
    "_**What are some benefits of using Pandas?**_\n",
    "- Easy data manipulation\n",
    "- Works well with Python and its other modules\n",
    "- Efficient for data manipulation\n",
    "- Easy readability\n",
    "\n",
    "_**How would you add a column to a pandas DataFrame?**_\n"
   ]
  },
  {
   "cell_type": "code",
   "execution_count": 61,
   "metadata": {},
   "outputs": [
    {
     "data": {
      "text/html": [
       "<div>\n",
       "<style scoped>\n",
       "    .dataframe tbody tr th:only-of-type {\n",
       "        vertical-align: middle;\n",
       "    }\n",
       "\n",
       "    .dataframe tbody tr th {\n",
       "        vertical-align: top;\n",
       "    }\n",
       "\n",
       "    .dataframe thead th {\n",
       "        text-align: right;\n",
       "    }\n",
       "</style>\n",
       "<table border=\"1\" class=\"dataframe\">\n",
       "  <thead>\n",
       "    <tr style=\"text-align: right;\">\n",
       "      <th></th>\n",
       "      <th>A</th>\n",
       "      <th>B</th>\n",
       "    </tr>\n",
       "  </thead>\n",
       "  <tbody>\n",
       "    <tr>\n",
       "      <th>0</th>\n",
       "      <td>1</td>\n",
       "      <td>NaN</td>\n",
       "    </tr>\n",
       "    <tr>\n",
       "      <th>1</th>\n",
       "      <td>1</td>\n",
       "      <td>NaN</td>\n",
       "    </tr>\n",
       "    <tr>\n",
       "      <th>2</th>\n",
       "      <td>2</td>\n",
       "      <td>NaN</td>\n",
       "    </tr>\n",
       "    <tr>\n",
       "      <th>3</th>\n",
       "      <td>2</td>\n",
       "      <td>NaN</td>\n",
       "    </tr>\n",
       "    <tr>\n",
       "      <th>4</th>\n",
       "      <td>3</td>\n",
       "      <td>NaN</td>\n",
       "    </tr>\n",
       "    <tr>\n",
       "      <th>5</th>\n",
       "      <td>3</td>\n",
       "      <td>NaN</td>\n",
       "    </tr>\n",
       "    <tr>\n",
       "      <th>6</th>\n",
       "      <td>4</td>\n",
       "      <td>NaN</td>\n",
       "    </tr>\n",
       "    <tr>\n",
       "      <th>7</th>\n",
       "      <td>4</td>\n",
       "      <td>NaN</td>\n",
       "    </tr>\n",
       "    <tr>\n",
       "      <th>8</th>\n",
       "      <td>5</td>\n",
       "      <td>NaN</td>\n",
       "    </tr>\n",
       "    <tr>\n",
       "      <th>9</th>\n",
       "      <td>5</td>\n",
       "      <td>NaN</td>\n",
       "    </tr>\n",
       "  </tbody>\n",
       "</table>\n",
       "</div>"
      ],
      "text/plain": [
       "   A   B\n",
       "0  1 NaN\n",
       "1  1 NaN\n",
       "2  2 NaN\n",
       "3  2 NaN\n",
       "4  3 NaN\n",
       "5  3 NaN\n",
       "6  4 NaN\n",
       "7  4 NaN\n",
       "8  5 NaN\n",
       "9  5 NaN"
      ]
     },
     "execution_count": 61,
     "metadata": {},
     "output_type": "execute_result"
    }
   ],
   "source": [
    "empty['B'] = np.nan\n",
    "empty"
   ]
  },
  {
   "cell_type": "code",
   "execution_count": 62,
   "metadata": {},
   "outputs": [
    {
     "data": {
      "text/html": [
       "<div>\n",
       "<style scoped>\n",
       "    .dataframe tbody tr th:only-of-type {\n",
       "        vertical-align: middle;\n",
       "    }\n",
       "\n",
       "    .dataframe tbody tr th {\n",
       "        vertical-align: top;\n",
       "    }\n",
       "\n",
       "    .dataframe thead th {\n",
       "        text-align: right;\n",
       "    }\n",
       "</style>\n",
       "<table border=\"1\" class=\"dataframe\">\n",
       "  <thead>\n",
       "    <tr style=\"text-align: right;\">\n",
       "      <th></th>\n",
       "      <th>A</th>\n",
       "      <th>B</th>\n",
       "      <th>C</th>\n",
       "    </tr>\n",
       "  </thead>\n",
       "  <tbody>\n",
       "    <tr>\n",
       "      <th>0</th>\n",
       "      <td>1</td>\n",
       "      <td>NaN</td>\n",
       "      <td>5</td>\n",
       "    </tr>\n",
       "    <tr>\n",
       "      <th>1</th>\n",
       "      <td>1</td>\n",
       "      <td>NaN</td>\n",
       "      <td>5</td>\n",
       "    </tr>\n",
       "    <tr>\n",
       "      <th>2</th>\n",
       "      <td>2</td>\n",
       "      <td>NaN</td>\n",
       "      <td>4</td>\n",
       "    </tr>\n",
       "    <tr>\n",
       "      <th>3</th>\n",
       "      <td>2</td>\n",
       "      <td>NaN</td>\n",
       "      <td>4</td>\n",
       "    </tr>\n",
       "    <tr>\n",
       "      <th>4</th>\n",
       "      <td>3</td>\n",
       "      <td>NaN</td>\n",
       "      <td>3</td>\n",
       "    </tr>\n",
       "    <tr>\n",
       "      <th>5</th>\n",
       "      <td>3</td>\n",
       "      <td>NaN</td>\n",
       "      <td>3</td>\n",
       "    </tr>\n",
       "    <tr>\n",
       "      <th>6</th>\n",
       "      <td>4</td>\n",
       "      <td>NaN</td>\n",
       "      <td>2</td>\n",
       "    </tr>\n",
       "    <tr>\n",
       "      <th>7</th>\n",
       "      <td>4</td>\n",
       "      <td>NaN</td>\n",
       "      <td>2</td>\n",
       "    </tr>\n",
       "    <tr>\n",
       "      <th>8</th>\n",
       "      <td>5</td>\n",
       "      <td>NaN</td>\n",
       "      <td>1</td>\n",
       "    </tr>\n",
       "    <tr>\n",
       "      <th>9</th>\n",
       "      <td>5</td>\n",
       "      <td>NaN</td>\n",
       "      <td>1</td>\n",
       "    </tr>\n",
       "  </tbody>\n",
       "</table>\n",
       "</div>"
      ],
      "text/plain": [
       "   A   B  C\n",
       "0  1 NaN  5\n",
       "1  1 NaN  5\n",
       "2  2 NaN  4\n",
       "3  2 NaN  4\n",
       "4  3 NaN  3\n",
       "5  3 NaN  3\n",
       "6  4 NaN  2\n",
       "7  4 NaN  2\n",
       "8  5 NaN  1\n",
       "9  5 NaN  1"
      ]
     },
     "execution_count": 62,
     "metadata": {},
     "output_type": "execute_result"
    }
   ],
   "source": [
    "empty['C'] = [1, 1, 2, 2, 3, 3, 4, 4, 5, 5][::-1]\n",
    "empty"
   ]
  },
  {
   "attachments": {},
   "cell_type": "markdown",
   "metadata": {},
   "source": [
    "_**How would you rename a column in a Pandas DataFrame?**_"
   ]
  },
  {
   "cell_type": "code",
   "execution_count": 63,
   "metadata": {},
   "outputs": [
    {
     "data": {
      "text/html": [
       "<div>\n",
       "<style scoped>\n",
       "    .dataframe tbody tr th:only-of-type {\n",
       "        vertical-align: middle;\n",
       "    }\n",
       "\n",
       "    .dataframe tbody tr th {\n",
       "        vertical-align: top;\n",
       "    }\n",
       "\n",
       "    .dataframe thead th {\n",
       "        text-align: right;\n",
       "    }\n",
       "</style>\n",
       "<table border=\"1\" class=\"dataframe\">\n",
       "  <thead>\n",
       "    <tr style=\"text-align: right;\">\n",
       "      <th></th>\n",
       "      <th>a</th>\n",
       "      <th>b</th>\n",
       "      <th>C</th>\n",
       "    </tr>\n",
       "  </thead>\n",
       "  <tbody>\n",
       "    <tr>\n",
       "      <th>0</th>\n",
       "      <td>1</td>\n",
       "      <td>NaN</td>\n",
       "      <td>5</td>\n",
       "    </tr>\n",
       "    <tr>\n",
       "      <th>1</th>\n",
       "      <td>1</td>\n",
       "      <td>NaN</td>\n",
       "      <td>5</td>\n",
       "    </tr>\n",
       "    <tr>\n",
       "      <th>2</th>\n",
       "      <td>2</td>\n",
       "      <td>NaN</td>\n",
       "      <td>4</td>\n",
       "    </tr>\n",
       "    <tr>\n",
       "      <th>3</th>\n",
       "      <td>2</td>\n",
       "      <td>NaN</td>\n",
       "      <td>4</td>\n",
       "    </tr>\n",
       "    <tr>\n",
       "      <th>4</th>\n",
       "      <td>3</td>\n",
       "      <td>NaN</td>\n",
       "      <td>3</td>\n",
       "    </tr>\n",
       "    <tr>\n",
       "      <th>5</th>\n",
       "      <td>3</td>\n",
       "      <td>NaN</td>\n",
       "      <td>3</td>\n",
       "    </tr>\n",
       "    <tr>\n",
       "      <th>6</th>\n",
       "      <td>4</td>\n",
       "      <td>NaN</td>\n",
       "      <td>2</td>\n",
       "    </tr>\n",
       "    <tr>\n",
       "      <th>7</th>\n",
       "      <td>4</td>\n",
       "      <td>NaN</td>\n",
       "      <td>2</td>\n",
       "    </tr>\n",
       "    <tr>\n",
       "      <th>8</th>\n",
       "      <td>5</td>\n",
       "      <td>NaN</td>\n",
       "      <td>1</td>\n",
       "    </tr>\n",
       "    <tr>\n",
       "      <th>9</th>\n",
       "      <td>5</td>\n",
       "      <td>NaN</td>\n",
       "      <td>1</td>\n",
       "    </tr>\n",
       "  </tbody>\n",
       "</table>\n",
       "</div>"
      ],
      "text/plain": [
       "   a   b  C\n",
       "0  1 NaN  5\n",
       "1  1 NaN  5\n",
       "2  2 NaN  4\n",
       "3  2 NaN  4\n",
       "4  3 NaN  3\n",
       "5  3 NaN  3\n",
       "6  4 NaN  2\n",
       "7  4 NaN  2\n",
       "8  5 NaN  1\n",
       "9  5 NaN  1"
      ]
     },
     "execution_count": 63,
     "metadata": {},
     "output_type": "execute_result"
    }
   ],
   "source": [
    "empty.columns = ['a', 'b', 'C']\n",
    "empty"
   ]
  },
  {
   "cell_type": "code",
   "execution_count": 64,
   "metadata": {},
   "outputs": [
    {
     "data": {
      "text/html": [
       "<div>\n",
       "<style scoped>\n",
       "    .dataframe tbody tr th:only-of-type {\n",
       "        vertical-align: middle;\n",
       "    }\n",
       "\n",
       "    .dataframe tbody tr th {\n",
       "        vertical-align: top;\n",
       "    }\n",
       "\n",
       "    .dataframe thead th {\n",
       "        text-align: right;\n",
       "    }\n",
       "</style>\n",
       "<table border=\"1\" class=\"dataframe\">\n",
       "  <thead>\n",
       "    <tr style=\"text-align: right;\">\n",
       "      <th></th>\n",
       "      <th>A</th>\n",
       "      <th>B</th>\n",
       "      <th>C</th>\n",
       "    </tr>\n",
       "  </thead>\n",
       "  <tbody>\n",
       "    <tr>\n",
       "      <th>0</th>\n",
       "      <td>1</td>\n",
       "      <td>NaN</td>\n",
       "      <td>5</td>\n",
       "    </tr>\n",
       "    <tr>\n",
       "      <th>1</th>\n",
       "      <td>1</td>\n",
       "      <td>NaN</td>\n",
       "      <td>5</td>\n",
       "    </tr>\n",
       "    <tr>\n",
       "      <th>2</th>\n",
       "      <td>2</td>\n",
       "      <td>NaN</td>\n",
       "      <td>4</td>\n",
       "    </tr>\n",
       "    <tr>\n",
       "      <th>3</th>\n",
       "      <td>2</td>\n",
       "      <td>NaN</td>\n",
       "      <td>4</td>\n",
       "    </tr>\n",
       "    <tr>\n",
       "      <th>4</th>\n",
       "      <td>3</td>\n",
       "      <td>NaN</td>\n",
       "      <td>3</td>\n",
       "    </tr>\n",
       "    <tr>\n",
       "      <th>5</th>\n",
       "      <td>3</td>\n",
       "      <td>NaN</td>\n",
       "      <td>3</td>\n",
       "    </tr>\n",
       "    <tr>\n",
       "      <th>6</th>\n",
       "      <td>4</td>\n",
       "      <td>NaN</td>\n",
       "      <td>2</td>\n",
       "    </tr>\n",
       "    <tr>\n",
       "      <th>7</th>\n",
       "      <td>4</td>\n",
       "      <td>NaN</td>\n",
       "      <td>2</td>\n",
       "    </tr>\n",
       "    <tr>\n",
       "      <th>8</th>\n",
       "      <td>5</td>\n",
       "      <td>NaN</td>\n",
       "      <td>1</td>\n",
       "    </tr>\n",
       "    <tr>\n",
       "      <th>9</th>\n",
       "      <td>5</td>\n",
       "      <td>NaN</td>\n",
       "      <td>1</td>\n",
       "    </tr>\n",
       "  </tbody>\n",
       "</table>\n",
       "</div>"
      ],
      "text/plain": [
       "   A   B  C\n",
       "0  1 NaN  5\n",
       "1  1 NaN  5\n",
       "2  2 NaN  4\n",
       "3  2 NaN  4\n",
       "4  3 NaN  3\n",
       "5  3 NaN  3\n",
       "6  4 NaN  2\n",
       "7  4 NaN  2\n",
       "8  5 NaN  1\n",
       "9  5 NaN  1"
      ]
     },
     "execution_count": 64,
     "metadata": {},
     "output_type": "execute_result"
    }
   ],
   "source": [
    "empty.rename(columns={'a': 'A', 'b': 'B'}, inplace=True)\n",
    "empty"
   ]
  },
  {
   "attachments": {},
   "cell_type": "markdown",
   "metadata": {},
   "source": [
    "_**How would you convert a Pandas DataFrame to a numpy array?**_"
   ]
  },
  {
   "cell_type": "code",
   "execution_count": 65,
   "metadata": {},
   "outputs": [
    {
     "data": {
      "text/plain": [
       "array([[ 1., nan,  5.],\n",
       "       [ 1., nan,  5.],\n",
       "       [ 2., nan,  4.],\n",
       "       [ 2., nan,  4.],\n",
       "       [ 3., nan,  3.],\n",
       "       [ 3., nan,  3.],\n",
       "       [ 4., nan,  2.],\n",
       "       [ 4., nan,  2.],\n",
       "       [ 5., nan,  1.],\n",
       "       [ 5., nan,  1.]])"
      ]
     },
     "execution_count": 65,
     "metadata": {},
     "output_type": "execute_result"
    }
   ],
   "source": [
    "empty.to_numpy()"
   ]
  },
  {
   "cell_type": "code",
   "execution_count": 66,
   "metadata": {},
   "outputs": [
    {
     "data": {
      "text/plain": [
       "array([[ 1., nan,  5.],\n",
       "       [ 1., nan,  5.],\n",
       "       [ 2., nan,  4.],\n",
       "       [ 2., nan,  4.],\n",
       "       [ 3., nan,  3.],\n",
       "       [ 3., nan,  3.],\n",
       "       [ 4., nan,  2.],\n",
       "       [ 4., nan,  2.],\n",
       "       [ 5., nan,  1.],\n",
       "       [ 5., nan,  1.]])"
      ]
     },
     "execution_count": 66,
     "metadata": {},
     "output_type": "execute_result"
    }
   ],
   "source": [
    "empty.values"
   ]
  },
  {
   "attachments": {},
   "cell_type": "markdown",
   "metadata": {},
   "source": [
    "_**How would you save a Pandas DataFrame to a csv file?**_\n"
   ]
  },
  {
   "cell_type": "code",
   "execution_count": 67,
   "metadata": {},
   "outputs": [],
   "source": [
    "path = './Coding Dojo/Datasets/test.csv'\n",
    "empty.to_csv(path)"
   ]
  },
  {
   "attachments": {},
   "cell_type": "markdown",
   "metadata": {},
   "source": [
    "_**Define GroupBy in Pandas.**_\n",
    "- GroupBy rearranges selected data based on some type of criteria with the Data's columns."
   ]
  },
  {
   "attachments": {},
   "cell_type": "markdown",
   "metadata": {},
   "source": [
    "# **Week 3**"
   ]
  },
  {
   "attachments": {},
   "cell_type": "markdown",
   "metadata": {},
   "source": [
    "_**What makes data visualization good?**_\n",
    "- It's visually appealing.\n",
    "- Conveys information in an easy to read and easy to understand format.\n",
    "- It should be uncluttered and contain only necessary info.\n",
    "\n",
    "_**Why might you want to use data visualization?**_\n",
    "- When you want to explain your data to an audience in an easily understandable way.\n",
    "- When you wish to understand various aspects about your own data that is not easily discernible by just looking at rows (e.g. discerning outliers and correlations.)\n",
    "\n",
    "_**What are some basic elements of a graph?**_\n",
    "- Titles, axes and their labels, legends.\n",
    "\n",
    "_**How would you visualize the relationship between two quantitative variables?**_\n",
    "- Scatterplot or linegraph.\n",
    "\n",
    "_**What is a heat map?**_\n",
    "- A heat map is data visualization that shows the magniude of a numerical variable as a specific hue. \n",
    "\n",
    "_**Name different types of graphs to visualize data.**_\n",
    "- Heatmap, scatterplot, barplot\n",
    "\n",
    "_**What are data visualization tools that you are familiar with?**_\n",
    "- Python, R, Matlab, Tableau, Seaborn\n",
    "\n",
    "_**Name several data visualization libraries in Python.**_\n",
    "- Seaborn, Matplotlib, Pylot\n",
    "\n",
    "_**Name several data visualization tools outside of Python.**_\n",
    "- Tableau, PowerBI, Excel, Matlab\n",
    "\n",
    "_**What is the difference between a line graph and a scatter plot?**_\n",
    "- A line graph connects the dots and tends to show the trends between the variables or trends over time, where a scatter plot shows every data point."
   ]
  },
  {
   "attachments": {},
   "cell_type": "markdown",
   "metadata": {},
   "source": [
    "# **Week 4**"
   ]
  },
  {
   "attachments": {},
   "cell_type": "markdown",
   "metadata": {},
   "source": [
    "_**What are some ethical considerations when creating graphs?**_\n",
    "- Ensure that you, as the data interpreter, do not create intentionally or unintentionally misleading and or ambiguous graphs.\n",
    "\n",
    "_**What are some considerations for making graphs accessible for a diverse audience?**_\n",
    "- Consider font types, font weights, and especially colors than are accessible for the colorblind. Likewise, ensure alt-texts are available.\n",
    "\n",
    "_**Why are pie graphs not the best option for sharing information, and what would be a better choice?**_\n",
    "- It is hard for humans to detect minute differences in areas of figures as well as with angles. Pie charts rely solely on _these two_, that is, detecting differences in area and angles. Likewise, portions of the chart that are similar to each other or small are hard to discern and can lead to confusion and error.\n",
    "- Barcharts and wafflecharts are alternatives.\n",
    "\n",
    "_**When it comes to making graphs for explaining information to others, what are several design features you should avoid?**_\n",
    "- 3D figures, blown apart charts, overloading the chart, odd axis scaling, unclear or absent axis titles, distracting/bright/too much colors. \n",
    "\n",
    "_**The type of visuals that you use depends on your audience. Give an example of some visuals that would be appropriate for a technical audience, but not appropriate for a non-technical audience?**_\n",
    "- Technical: Scatterplots, Boxplots, Stacked Barchart,  Histogram\n",
    "- Non-technical: Pie charts, Donut charts, Barcharts, Line graphs\n",
    "\n",
    "_**Describe the pros and cons of using a boxplot vs a histogram for distribution.**_\n",
    "- Boxplot\n",
    "    - Pros: Easily visualize a distribution's skewness; can easily plot multiple in one area; easily view outliers; provides a compact summary of a distribution.\n",
    "    - Cons: Non-technical audience may not understand it.\n",
    "- Histogram\n",
    "    - Pros: Easily displays large amounts of numerical data in an intuitive way; easily allows an audience to see where most of the values of a dataset lie; data variations are easily seen; easily see skewness, though not as well as a boxplot;\n",
    "    - Cons: Only continuous data can be used; inconvenient when comparing two different data categories\n",
    "    \n",
    "\n",
    "_**Define correlation and explain the difference between a positive and a negative correlation.**_\n",
    "- Correlation is when two variables grow with or against one another. A positive correlation is when two numerical variables grows with each other and a negative correlation is when two variable grow against each other.\n",
    "\n",
    "_**What is the difference between a histogram and a bar chart and when should you use each?**_\n",
    "- Though they look similar, a histogram shows the distribution of continuous data while a bar chart compares categorical data.\n",
    "- You should use a histogram when you want to analyze the distribution of a variable that is continuous.\n",
    "- You should use a bar chart when you want to analyze a categorical variable. \n",
    "\n",
    "_**How does the bin size affect the output of a histogram?**_\n",
    "- The bin size affects how detailed and accurate the distribution estimate is within the histogram.\n",
    "\n",
    "_**What is a donut chart and when is it used?**_\n",
    "- A donut chart is a variation of a pie chart.\n",
    "- A donut chart is helpful when conveying percentages, especially when it's a small amount or one."
   ]
  },
  {
   "attachments": {},
   "cell_type": "markdown",
   "metadata": {},
   "source": [
    "# **Week 5**"
   ]
  },
  {
   "attachments": {},
   "cell_type": "markdown",
   "metadata": {},
   "source": [
    "_**What is the difference between supervised and unsupervised learning?**_\n",
    "- Supervised machine learning has a target vector and uses labeled input and output data\n",
    "- Unsupervised machine learning does not have a target vector and does not use labeled input and output data\n",
    "\n",
    "_**What is the difference between regression and classification?**_\n",
    "\n",
    "- Regression seeks to predict a numerical value.\n",
    "- Classification seeks to predict a categorical value.\n",
    "\n",
    "_**What is a target in supervised machine learning?**_\n",
    "- The target is the column of a dataset that the supervised machine learning algorithm is trying to predict.\n",
    "\n",
    "_**Explain the purpose of a train-test split?**_\n",
    "-\n",
    "\n",
    "_**What is machine learning?**_\n",
    "-\n",
    "\n",
    "_**What are some common applications of machine learning?**_\n",
    "-\n",
    "\n",
    "_**What are the benefits of using a pipeline?**_\n",
    "-\n",
    "\n",
    "_**What is data leakage and why is it a problem?**_\n",
    "-\n",
    "\n",
    "_**What is meant by \"fitting\" a model?**_\n",
    "-\n",
    "\n",
    "_**Describe the essential steps to pre-processing data for machine learning.**_\n",
    "-\n"
   ]
  }
 ],
 "metadata": {
  "kernelspec": {
   "display_name": "Python 3",
   "language": "python",
   "name": "python3"
  },
  "language_info": {
   "codemirror_mode": {
    "name": "ipython",
    "version": 3
   },
   "file_extension": ".py",
   "mimetype": "text/x-python",
   "name": "python",
   "nbconvert_exporter": "python",
   "pygments_lexer": "ipython3",
   "version": "3.10.10"
  },
  "orig_nbformat": 4,
  "vscode": {
   "interpreter": {
    "hash": "7e9e5ad401de39515058f8e476101bf27db3c0dd433738962d4efa9a7611ac1c"
   }
  }
 },
 "nbformat": 4,
 "nbformat_minor": 2
}
